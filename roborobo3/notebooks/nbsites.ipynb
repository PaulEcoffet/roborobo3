{
 "cells": [
  {
   "cell_type": "code",
   "execution_count": 9,
   "metadata": {},
   "outputs": [],
   "source": [
    "import glob\n",
    "import loader\n",
    "import seaborn as sns\n",
    "import numpy as np\n",
    "import tqdm\n",
    "import pandas as pd\n",
    "import matplotlib.pyplot as plt\n",
    "from PIL import Image"
   ]
  },
  {
   "cell_type": "code",
   "execution_count": 10,
   "metadata": {},
   "outputs": [
    {
     "name": "stdout",
     "output_type": "stream",
     "text": [
      "35\n"
     ]
    },
    {
     "data": {
      "application/vnd.jupyter.widget-view+json": {
       "model_id": "3a4c98124775409ca49075cc917025bb",
       "version_major": 2,
       "version_minor": 0
      },
      "text/plain": [
       "HBox(children=(IntProgress(value=1, bar_style='info', max=1), HTML(value='')))"
      ]
     },
     "metadata": {},
     "output_type": "display_data"
    },
    {
     "name": "stdout",
     "output_type": "stream",
     "text": [
      "\n",
      "40\n"
     ]
    },
    {
     "data": {
      "application/vnd.jupyter.widget-view+json": {
       "model_id": "0feb83896cdf45ec9bada7cd64c8d2d0",
       "version_major": 2,
       "version_minor": 0
      },
      "text/plain": [
       "HBox(children=(IntProgress(value=0, max=192), HTML(value='')))"
      ]
     },
     "metadata": {},
     "output_type": "display_data"
    },
    {
     "name": "stdout",
     "output_type": "stream",
     "text": [
      "\n",
      "70\n"
     ]
    },
    {
     "data": {
      "application/vnd.jupyter.widget-view+json": {
       "model_id": "fb525f9105bc4acd815d26a9577b6347",
       "version_major": 2,
       "version_minor": 0
      },
      "text/plain": [
       "HBox(children=(IntProgress(value=0, max=128), HTML(value='')))"
      ]
     },
     "metadata": {},
     "output_type": "display_data"
    },
    {
     "name": "stdout",
     "output_type": "stream",
     "text": [
      "\n",
      "100\n"
     ]
    },
    {
     "data": {
      "application/vnd.jupyter.widget-view+json": {
       "model_id": "ba1e47d98f5441169906abe89f639c25",
       "version_major": 2,
       "version_minor": 0
      },
      "text/plain": [
       "HBox(children=(IntProgress(value=0, max=128), HTML(value='')))"
      ]
     },
     "metadata": {},
     "output_type": "display_data"
    },
    {
     "name": "stdout",
     "output_type": "stream",
     "text": [
      "\n",
      "200\n"
     ]
    },
    {
     "data": {
      "application/vnd.jupyter.widget-view+json": {
       "model_id": "1fd83f2e95f940198c058334910e2fd9",
       "version_major": 2,
       "version_minor": 0
      },
      "text/plain": [
       "HBox(children=(IntProgress(value=0, max=160), HTML(value='')))"
      ]
     },
     "metadata": {},
     "output_type": "display_data"
    },
    {
     "name": "stdout",
     "output_type": "stream",
     "text": [
      "\n",
      "500\n"
     ]
    },
    {
     "data": {
      "application/vnd.jupyter.widget-view+json": {
       "model_id": "26eddaed0d72484dbb8086bac946bdd3",
       "version_major": 2,
       "version_minor": 0
      },
      "text/plain": [
       "HBox(children=(IntProgress(value=0, max=160), HTML(value='')))"
      ]
     },
     "metadata": {},
     "output_type": "display_data"
    },
    {
     "name": "stdout",
     "output_type": "stream",
     "text": [
      "\n",
      "700\n"
     ]
    },
    {
     "data": {
      "application/vnd.jupyter.widget-view+json": {
       "model_id": "7a013761d54047fd9c0b8a36139b2496",
       "version_major": 2,
       "version_minor": 0
      },
      "text/plain": [
       "HBox(children=(IntProgress(value=0, max=182), HTML(value='')))"
      ]
     },
     "metadata": {},
     "output_type": "display_data"
    },
    {
     "name": "stdout",
     "output_type": "stream",
     "text": [
      "\n",
      "1000\n"
     ]
    },
    {
     "data": {
      "application/vnd.jupyter.widget-view+json": {
       "model_id": "9065d7aec0d34381bbe540738788c204",
       "version_major": 2,
       "version_minor": 0
      },
      "text/plain": [
       "HBox(children=(IntProgress(value=0, max=181), HTML(value='')))"
      ]
     },
     "metadata": {},
     "output_type": "display_data"
    },
    {
     "name": "stdout",
     "output_type": "stream",
     "text": [
      "\n",
      "1200\n"
     ]
    },
    {
     "data": {
      "application/vnd.jupyter.widget-view+json": {
       "model_id": "32eb885d8a704b30a7ac848202c77e56",
       "version_major": 2,
       "version_minor": 0
      },
      "text/plain": [
       "HBox(children=(IntProgress(value=0, max=53), HTML(value='')))"
      ]
     },
     "metadata": {},
     "output_type": "display_data"
    },
    {
     "name": "stdout",
     "output_type": "stream",
     "text": [
      "\n"
     ]
    }
   ],
   "source": [
    "paths = '/home/pecoffet/remoterobo/logs/bm-nb-opp-2019-03-*/tp{}/**/rep00'\n",
    "conds = [35, 40, 70, 100, 200, 500, 700, 1000, 1200]\n",
    "total = []\n",
    "for cond in conds:\n",
    "    curpath = paths.format(cond)\n",
    "    toanalyse = glob.glob(curpath)\n",
    "    run =0\n",
    "    print(cond)\n",
    "    for coop in tqdm.tqdm_notebook(loader.getgenomes(toanalyse), total=len(toanalyse)):\n",
    "        try:\n",
    "            total.append({'median': np.median(coop), 'nbopp': cond, 'run': run})\n",
    "        except Exception as e: print(e)\n",
    "        run += 1"
   ]
  },
  {
   "cell_type": "code",
   "execution_count": 11,
   "metadata": {},
   "outputs": [],
   "source": [
    "df = pd.DataFrame(total).query('run <= 50')"
   ]
  },
  {
   "cell_type": "code",
   "execution_count": 30,
   "metadata": {},
   "outputs": [
    {
     "data": {
      "image/png": "[encoded data removed]",
      "text/plain": [
       "<Figure size 367.2x228.075 with 1 Axes>"
      ]
     },
     "metadata": {},
     "output_type": "display_data"
    }
   ],
   "source": [
    "plosrcparams = {'backend': 'pdf',\n",
    "                'axes.labelsize': 9,\n",
    "                'xtick.labelsize': 9,\n",
    "                'ytick.labelsize': 9,\n",
    "                'legend.fontsize': 9,\n",
    "                'lines.markersize': 3,\n",
    "                'font.size': 9,\n",
    "                'font.family': u'sans-serif',\n",
    "                'font.sans-serif': ['Arial'],\n",
    "                'text.usetex': False}\n",
    "\n",
    "import matplotlib as mpl\n",
    "\n",
    "mpl.rcParams.update(plosrcparams)\n",
    "sns.set_context('paper')\n",
    "sns.set_style('white')\n",
    "\n",
    "\n",
    "sns.set_context('paper')\n",
    "sns.set_style('white')\n",
    "fig = plt.figure()\n",
    "fig.set_size_inches(5.1, 5.1/1.61)\n",
    "#sns.violinplot(data=df, x='nbopp', y='median', scale='count', color=\"#777777\")\n",
    "sns.boxplot(data=df, x='nbopp', y='median', color=\"#777777\")\n",
    "plt.xlabel('Number of sites')\n",
    "plt.ylabel('Median Cooperation per simulation')\n",
    "plt.ylim(0, 10)\n",
    "plt.axhline(2.5, label=\"$x_{defect}$\", c=\"#963d35\", linewidth=2, alpha=0.5)\n",
    "plt.axhline(6.5, label=\"$x_{cooperate}$\", c=\"#3375b2\", linewidth=2, alpha=0.5)\n",
    "plt.legend()\n",
    "sns.despine()\n",
    "plt.title('Median cooperation with different number of sites', fontsize=12);\n",
    "plt.savefig('Results/nb_site_invest.pdf')\n",
    "#plt.savefig('Results/nb_site_invest.tiff', dpi=600, compression=\"zlib\");\n",
    "#im = Image.open('Results/nb_site_invest.tiff')\n",
    "#im.save('Results/nb_site_invest_c.tiff', compression='tiff_lzw')"
   ]
  },
  {
   "cell_type": "code",
   "execution_count": 7,
   "metadata": {},
   "outputs": [
    {
     "data": {
      "text/plain": [
       "<matplotlib.axes._subplots.AxesSubplot at 0x7f8bf40f4be0>"
      ]
     },
     "execution_count": 7,
     "metadata": {},
     "output_type": "execute_result"
    },
    {
     "data": {
      "image/png": "[encoded data removed]",
      "text/plain": [
       "<Figure size 432x288 with 1 Axes>"
      ]
     },
     "metadata": {
      "needs_background": "light"
     },
     "output_type": "display_data"
    }
   ],
   "source": [
    "sns.lineplot(data=df, x='nbopp', y='median')"
   ]
  },
  {
   "cell_type": "code",
   "execution_count": 6,
   "metadata": {},
   "outputs": [],
   "source": [
    "path = '../log/pdnotp/'\n",
    "for coops in loader.getgenomes([path]):\n",
    "    sns.distplot(coops)\n",
    "    plt.xlim(0, 10)"
   ]
  },
  {
   "cell_type": "code",
   "execution_count": null,
   "metadata": {},
   "outputs": [],
   "source": []
  }
 ],
 "metadata": {
  "kernelspec": {
   "display_name": "Python 3",
   "language": "python",
   "name": "python3"
  },
  "language_info": {
   "codemirror_mode": {
    "name": "ipython",
    "version": 3
   },
   "file_extension": ".py",
   "mimetype": "text/x-python",
   "name": "python",
   "nbconvert_exporter": "python",
   "pygments_lexer": "ipython3",
   "version": "3.6.7"
  }
 },
 "nbformat": 4,
 "nbformat_minor": 2
}
