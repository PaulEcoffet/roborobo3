{
 "cells": [
  {
   "cell_type": "code",
   "execution_count": null,
   "metadata": {},
   "outputs": [],
   "source": [
    "import matplotlib.pyplot as plt\n",
    "import seaborn as sns\n",
    "import colorsys\n",
    "sns.set()\n",
    "import numpy as np"
   ]
  },
  {
   "cell_type": "code",
   "execution_count": null,
   "metadata": {},
   "outputs": [],
   "source": [
    "palette = [\"#3375b2\", \"#9ec88e\", \"#963d35\", \"#ba7ca6\", \"#f0e141\", \"#73b6ea\"]\n",
    "\n",
    "sns.set_palette(palette)"
   ]
  },
  {
   "cell_type": "code",
   "execution_count": null,
   "metadata": {},
   "outputs": [],
   "source": [
    "sns.palplot(sns.color_palette())\n",
    "print([(int(r*255), int(b*255), int(g*255)) for r,g,b in sns.color_palette()])\n",
    "\n",
    "a = np.linspace(0, 6, 100)\n",
    "plt.figure(figsize=(7, 5))\n",
    "for i in range(1, 7):\n",
    "    plt.plot(a, i * np.sin(a))"
   ]
  },
  {
   "cell_type": "code",
   "execution_count": null,
   "metadata": {},
   "outputs": [],
   "source": [
    "for color in sns.color_palette():\n",
    "    sns.palplot(sns.dark_palette(color) + sns.light_palette(color, reverse=True)[1:])\n"
   ]
  },
  {
   "cell_type": "code",
   "execution_count": null,
   "metadata": {},
   "outputs": [],
   "source": [
    "green_hue = colorsys.rgb_to_hls(*sns.color_palette()[1])[0]\n",
    "sns.palplot(sns.cubehelix_palette(6, green_hue * 3))\n",
    "np.round(np.asarray(sns.cubehelix_palette(6, green_hue * 3)) * 255)"
   ]
  },
  {
   "cell_type": "code",
   "execution_count": null,
   "metadata": {},
   "outputs": [],
   "source": [
    "??sns.light_palette"
   ]
  },
  {
   "cell_type": "code",
   "execution_count": null,
   "metadata": {},
   "outputs": [],
   "source": []
  }
 ],
 "metadata": {
  "kernelspec": {
   "display_name": "Python 3",
   "language": "python",
   "name": "python3"
  },
  "language_info": {
   "codemirror_mode": {
    "name": "ipython",
    "version": 3
   },
   "file_extension": ".py",
   "mimetype": "text/x-python",
   "name": "python",
   "nbconvert_exporter": "python",
   "pygments_lexer": "ipython3",
   "version": "3.7.4"
  }
 },
 "nbformat": 4,
 "nbformat_minor": 4
}
