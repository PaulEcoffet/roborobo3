{
 "cells": [
  {
   "cell_type": "code",
   "execution_count": null,
   "metadata": {},
   "outputs": [],
   "source": [
    "import numpy as np\n",
    "import matplotlib.pyplot as plt\n",
    "import pandas as pd\n",
    "from scipy.stats import kendalltau\n",
    "import seaborn as sns"
   ]
  },
  {
   "cell_type": "code",
   "execution_count": null,
   "metadata": {},
   "outputs": [],
   "source": [
    "a = pd.read_csv('/home/pecoffet/remoterobo/logs/negociate6/negociate-fit-lotrep-faketrue2-mutCoop0.01-uni0.01-2019-08-23-1805/donotkill_false/run_01/rep00/longrep1/fitnesslog.txt', delimiter=\"\\t\")\n",
    "b = pd.read_csv('/home/pecoffet/remoterobo/logs/negociate6/negociate-fit-lotrep-faketrue2-mutCoop0.01-uni0.01-2019-08-23-1805/donotkill_false/run_01/rep00/longrep2/fitnesslog.txt', delimiter=\"\\t\")"
   ]
  },
  {
   "cell_type": "code",
   "execution_count": null,
   "metadata": {},
   "outputs": [],
   "source": [
    "tota = a.groupby('ind', as_index=False).expanding().mean().reset_index()\n",
    "totb = b.groupby('ind', as_index=False).expanding().mean().reset_index()"
   ]
  },
  {
   "cell_type": "code",
   "execution_count": null,
   "metadata": {},
   "outputs": [],
   "source": [
    "plt.figure(figsize=(20, 10))\n",
    "sns.lineplot(x='rep', y='fitness', hue='ind', data=totb.query('ind % 20 == 0 or ind == 65'))"
   ]
  },
  {
   "cell_type": "code",
   "execution_count": null,
   "metadata": {},
   "outputs": [],
   "source": [
    "lastgena = tota.query(f'rep == {tota[\"rep\"].max()}').copy()\n",
    "lastgena['rank'] = lastgena.rank()['fitness']\n",
    "lastgena['sim'] = 'a'\n",
    "\n",
    "lastgenb = totb.query(f'rep == {totb[\"rep\"].max()}').copy()\n",
    "lastgenb['rank'] = lastgenb.rank()['fitness']\n",
    "lastgenb['sim'] = 'b'"
   ]
  },
  {
   "cell_type": "code",
   "execution_count": null,
   "metadata": {},
   "outputs": [],
   "source": [
    "lastgentot = pd.concat((lastgena, lastgenb))"
   ]
  },
  {
   "cell_type": "code",
   "execution_count": null,
   "metadata": {},
   "outputs": [],
   "source": [
    "plt.figure(figsize=(4, 10))\n",
    "sns.lineplot(x='sim', y='rank', hue='ind', data=lastgentot)"
   ]
  },
  {
   "cell_type": "code",
   "execution_count": null,
   "metadata": {},
   "outputs": [],
   "source": [
    "kendalltau(lastgenb['rank'], lastgena['rank']).correlation"
   ]
  },
  {
   "cell_type": "code",
   "execution_count": null,
   "metadata": {},
   "outputs": [],
   "source": [
    "%matplotlib inline\n",
    "\n",
    "import tqdm\n",
    "\n",
    "maxeval = min(int(tota['rep'].max()), int(totb['rep'].max()))\n",
    "\n",
    "points = np.arange(0, maxeval, 100)\n",
    "kendalls = []\n",
    "\n",
    "\n",
    "for i in tqdm.tqdm_notebook(points):\n",
    "    curgena = tota.query(f'rep == {i}').copy()\n",
    "    curgena['rank'] = curgena.rank()['fitness']\n",
    "    curgenb = totb.query(f'rep == {i}').copy()\n",
    "    curgenb['rank'] = curgenb.rank()['fitness']\n",
    "    kendallres = kendalltau(curgena['rank'], curgenb['rank'])\n",
    "    kendalls.append({'rep': i, 'kendall': kendallres.correlation, 'pval': kendallres.pvalue })\n",
    "kendalldf = pd.DataFrame(kendalls)\n",
    "sorkendalldf = kendalldf.sort_values('rep')\n"
   ]
  },
  {
   "cell_type": "code",
   "execution_count": null,
   "metadata": {},
   "outputs": [],
   "source": [
    "fig, ax = plt.subplots(1, 1, figsize=(10, 6))\n",
    "\n",
    "ax.set_ylim(0, 1)\n",
    "ax.set_xlim(0, maxeval)\n",
    "sorkendalldf.plot(x='rep', y='kendall', logx=True, ax=ax)\n",
    "\n",
    "plt.show()"
   ]
  },
  {
   "cell_type": "code",
   "execution_count": null,
   "metadata": {},
   "outputs": [],
   "source": [
    "kendalldf.plot(logy=True, x='rep', y='pval')"
   ]
  },
  {
   "cell_type": "code",
   "execution_count": null,
   "metadata": {},
   "outputs": [],
   "source": []
  },
  {
   "cell_type": "code",
   "execution_count": null,
   "metadata": {},
   "outputs": [],
   "source": []
  }
 ],
 "metadata": {
  "kernelspec": {
   "display_name": "Python 3",
   "language": "python",
   "name": "python3"
  },
  "language_info": {
   "codemirror_mode": {
    "name": "ipython",
    "version": 3
   },
   "file_extension": ".py",
   "mimetype": "text/x-python",
   "name": "python",
   "nbconvert_exporter": "python",
   "pygments_lexer": "ipython3",
   "version": "3.6.7"
  }
 },
 "nbformat": 4,
 "nbformat_minor": 2
}
