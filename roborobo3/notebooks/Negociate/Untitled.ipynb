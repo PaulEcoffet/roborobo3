{
 "cells": [
  {
   "cell_type": "code",
   "execution_count": null,
   "metadata": {},
   "outputs": [],
   "source": [
    "def bisect(start, end, step=1):\n",
    "    prev = [start]\n",
    "    pivots = [end-1]\n",
    "    new = []\n",
    "\n",
    "    while pivots:\n",
    "        for pivot in pivots:\n",
    "            for elem in prev:\n",
    "                newelem = (pivot + elem) // 2\n",
    "                if newelem not in pivots and newelem not in prev and newelem not in new:\n",
    "                    new.append(newelem)\n",
    "        prev += pivots\n",
    "        pivots = new\n",
    "        new = []\n",
    "    return prev"
   ]
  },
  {
   "cell_type": "code",
   "execution_count": null,
   "metadata": {},
   "outputs": [],
   "source": [
    "bisect(0, 10000, 1)"
   ]
  },
  {
   "cell_type": "code",
   "execution_count": null,
   "metadata": {},
   "outputs": [],
   "source": [
    "def fastbissect(start, end):\n",
    "    tot = [start, end-1]\n",
    "    curinterval = (start+end-1)//2\n",
    "    while curinterval >= 1:\n",
    "        tot += list(range(curinterval, end - curinterval + 1, curinterval * 2))\n",
    "        curinterval = curinterval // 2\n",
    "    return tot"
   ]
  },
  {
   "cell_type": "code",
   "execution_count": null,
   "metadata": {},
   "outputs": [],
   "source": [
    "start = 0\n",
    "end = 100\n",
    "print(list(range(start, end, (start+end-1)//2)))"
   ]
  },
  {
   "cell_type": "code",
   "execution_count": null,
   "metadata": {},
   "outputs": [],
   "source": [
    "fastbissect(0, 101)"
   ]
  },
  {
   "cell_type": "code",
   "execution_count": null,
   "metadata": {},
   "outputs": [],
   "source": []
  }
 ],
 "metadata": {
  "kernelspec": {
   "display_name": "Python 3",
   "language": "python",
   "name": "python3"
  },
  "language_info": {
   "codemirror_mode": {
    "name": "ipython",
    "version": 3
   },
   "file_extension": ".py",
   "mimetype": "text/x-python",
   "name": "python",
   "nbconvert_exporter": "python",
   "pygments_lexer": "ipython3",
   "version": "3.6.7"
  }
 },
 "nbformat": 4,
 "nbformat_minor": 2
}
