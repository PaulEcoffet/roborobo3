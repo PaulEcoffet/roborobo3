{
 "cells": [
  {
   "cell_type": "code",
   "execution_count": null,
   "metadata": {},
   "outputs": [],
   "source": [
    "from IPython.display import HTML, display\n",
    "from ipywidgets import widgets\n",
    "import uuid\n",
    "import time\n",
    "randomid =  uuid.uuid4()  # Add a unique id to prevent conflict if several notebooks are opened in Jupyter lab\n",
    "ua_textinput = widgets.Text()\n",
    "ua_textinput.add_class('user-agent-content-' + str(randomid))\n",
    "display(ua_textinput)\n",
    "display(HTML(\"\"\"\n",
    "<script>\n",
    "'use strict';\n",
    "// Get the element\n",
    "var inp = document.getElementsByClassName(\n",
    "     'user-agent-content-\"\"\" + str(randomid) + \"\"\"')[0].getElementsByTagName('input')[0];\n",
    "\n",
    "// Set the UA\n",
    "inp.value = window.navigator.userAgent;\n",
    "\n",
    "// Trigger change for Jupyter lab kernel\n",
    "var evt = new Event('change', {\"bubbles\":true, \"cancelable\":false});\n",
    "inp.dispatchEvent(evt);\n",
    "</script>\n",
    "User Agent set\n",
    "\"\"\"))\n"
   ]
  },
  {
   "cell_type": "code",
   "execution_count": null,
   "metadata": {},
   "outputs": [],
   "source": [
    "if 'Mac OS' in ua_textinput.value:\n",
    "    print('running Mac OS')\n",
    "    %config InlineBackend.figure_format = 'retina'\n"
   ]
  },
  {
   "cell_type": "code",
   "execution_count": null,
   "metadata": {},
   "outputs": [],
   "source": []
  }
 ],
 "metadata": {
  "kernelspec": {
   "display_name": "Python 3",
   "language": "python",
   "name": "python3"
  },
  "language_info": {
   "codemirror_mode": {
    "name": "ipython",
    "version": 3
   },
   "file_extension": ".py",
   "mimetype": "text/x-python",
   "name": "python",
   "nbconvert_exporter": "python",
   "pygments_lexer": "ipython3",
   "version": "3.7.3"
  }
 },
 "nbformat": 4,
 "nbformat_minor": 2
}
