{
 "cells": [
  {
   "cell_type": "code",
   "execution_count": 12,
   "metadata": {},
   "outputs": [
    {
     "data": {
      "application/vnd.jupyter.widget-view+json": {
       "model_id": "d9a7f64c95d84811af951c25300a74a1",
       "version_major": 2,
       "version_minor": 0
      },
      "text/plain": [
       "Text(value='', _dom_classes=('user-agent-content-3a5e5a91-c19c-45de-ba4d-d3c4a61ebfa1',))"
      ]
     },
     "metadata": {},
     "output_type": "display_data"
    },
    {
     "data": {
      "text/html": [
       "\n",
       "<script>\n",
       "'use strict';\n",
       "// Get the element\n",
       "var inp = document.getElementsByClassName(\n",
       "     'user-agent-content-3a5e5a91-c19c-45de-ba4d-d3c4a61ebfa1')[0].getElementsByTagName('input')[0];\n",
       "\n",
       "// Set the UA\n",
       "inp.value = window.navigator.userAgent;\n",
       "\n",
       "// Trigger change for Jupyter lab kernel\n",
       "var evt = new Event('change', {\"bubbles\":true, \"cancelable\":false});\n",
       "inp.dispatchEvent(evt);\n",
       "</script>\n",
       "User Agent set\n"
      ],
      "text/plain": [
       "<IPython.core.display.HTML object>"
      ]
     },
     "metadata": {},
     "output_type": "display_data"
    }
   ],
   "source": [
    "from IPython.display import HTML, display\n",
    "from ipywidgets import widgets\n",
    "import uuid\n",
    "import time\n",
    "randomid =  uuid.uuid4()  # Add a unique id to prevent conflict if several notebooks are opened in Jupyter lab\n",
    "ua_textinput = widgets.Text()\n",
    "ua_textinput.add_class('user-agent-content-' + str(randomid))\n",
    "display(ua_textinput)\n",
    "time.sleep(0.1)\n",
    "display(HTML(\"\"\"\n",
    "<script>\n",
    "'use strict';\n",
    "// Get the element\n",
    "var inp = document.getElementsByClassName(\n",
    "     'user-agent-content-\"\"\" + str(randomid) + \"\"\"')[0].getElementsByTagName('input')[0];\n",
    "\n",
    "// Set the UA\n",
    "inp.value = window.navigator.userAgent;\n",
    "\n",
    "// Trigger change for Jupyter lab kernel\n",
    "var evt = new Event('change', {\"bubbles\":true, \"cancelable\":false});\n",
    "inp.dispatchEvent(evt);\n",
    "</script>\n",
    "User Agent set\n",
    "\"\"\"))\n"
   ]
  },
  {
   "cell_type": "code",
   "execution_count": 13,
   "metadata": {},
   "outputs": [],
   "source": [
    "if 'Mac OS' in ua_textinput.value:\n",
    "    print('running Mac OS')\n",
    "    %config InlineBackend.figure_format = 'retina'\n"
   ]
  },
  {
   "cell_type": "code",
   "execution_count": null,
   "metadata": {},
   "outputs": [],
   "source": []
  },
  {
   "cell_type": "code",
   "execution_count": null,
   "metadata": {},
   "outputs": [],
   "source": []
  }
 ],
 "metadata": {
  "kernelspec": {
   "display_name": "Python 3",
   "language": "python",
   "name": "python3"
  },
  "language_info": {
   "codemirror_mode": {
    "name": "ipython",
    "version": 3
   },
   "file_extension": ".py",
   "mimetype": "text/x-python",
   "name": "python",
   "nbconvert_exporter": "python",
   "pygments_lexer": "ipython3",
   "version": "3.7.4"
  }
 },
 "nbformat": 4,
 "nbformat_minor": 4
}
