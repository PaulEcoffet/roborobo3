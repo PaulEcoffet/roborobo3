{
 "cells": [
  {
   "cell_type": "code",
   "execution_count": null,
   "metadata": {},
   "outputs": [],
   "source": [
    "import pandas as pd\n",
    "import matplotlib.pyplot as plt\n",
    "import numpy as np\n",
    "import seaborn as sns\n",
    "import glob\n",
    "import scipy.stats\n",
    "from IPython.display import Video, display, HTML\n",
    "import tqdm\n",
    "import statsmodels.formula.api as sm\n",
    "\n",
    "sns.set()\n",
    "\n",
    "def read_csvx(path, *args, **kwargs):\n",
    "    try:\n",
    "        return pd.read_csv(str(path), *args, **kwargs)\n",
    "    except FileNotFoundException as e:\n",
    "        return pd.read_csv(str(path) +'.gz', *args, **kwargs)\n",
    "\n",
    "\n",
    "def followorbit(vals, path):\n",
    "    out = []\n",
    "    for n in range(100):\n",
    "        closest05 = np.clip(round(path[n] * 2) / 2, 0, 10)\n",
    "        rank = vals.query(f'nbopp == {n} and othercoop == {closest05}')['rank'].values[0]\n",
    "        out.append(rank)\n",
    "    return np.array(out)\n",
    "\n",
    "import re\n",
    "def gethighest(vals, prefix=\"logall_\", which=1):\n",
    "    if which == 1:\n",
    "        m = np.argmax([int(re.search(f'{prefix}(\\d+)', val).group(1)) for val in vals])\n",
    "    else:\n",
    "        trueval = [int(re.search(f'{prefix}(\\d+)', val).group(1)) for val in vals]\n",
    "        itrueval = sorted(list(enumerate(trueval)), key=lambda x: x[1])\n",
    "        m = itrueval[-which][0]\n",
    "    return vals[m]\n",
    "\n",
    "    \n",
    "def readparams(file):\n",
    "    params = {} \n",
    "    with open(file) as f:\n",
    "        for line in f:\n",
    "            line = line[:-1]  # remove \\n\n",
    "            if not line or line.startswith('#') or line.startswith('import'):\n",
    "                continue\n",
    "            key, val = line.split('=')\n",
    "            if val.lower() == 'true' or val.lower() == 'false':\n",
    "                params[key] = val.lower() == 'true'\n",
    "            else:\n",
    "                try:\n",
    "                    params[key] = float(val)\n",
    "                except ValueError:\n",
    "                    params[key] = val\n",
    "    return params\n",
    "\n",
    "def sorted_nicely(l): \n",
    "    \"\"\" Sort the given iterable in the way that humans expect.\"\"\" \n",
    "    convert = lambda text: int(text) if text.isdigit() else text \n",
    "    alphanum_key = lambda key: [ convert(c) for c in re.split('([0-9]+)', key) ] \n",
    "    return sorted(l, key = alphanum_key)\n",
    "\n",
    "def readparams(file):\n",
    "    params = {} \n",
    "    with open(file) as f:\n",
    "        for line in f:\n",
    "            line = line[:-1]  # remove \\n\n",
    "            if not line or line.startswith('#') or line.startswith('import'):\n",
    "                continue\n",
    "            key, val = line.split('=')\n",
    "            if val.lower() == 'true' or val.lower() == 'false':\n",
    "                params[key] = val.lower() == 'true'\n",
    "            else:\n",
    "                try:\n",
    "                    params[key] = float(val)\n",
    "                except ValueError:\n",
    "                    params[key] = val\n",
    "    return params\n",
    "\n",
    "import platform\n",
    "hostname = platform.node()\n",
    "print(hostname)\n",
    "\n",
    "if hostname == 'cluster':\n",
    "    prefix = '/home/ecoffet/robocoop/'\n",
    "else:\n",
    "    prefix = '/home/pecoffet/remoterobo/'"
   ]
  },
  {
   "cell_type": "code",
   "execution_count": null,
   "metadata": {},
   "outputs": [],
   "source": [
    "import json\n",
    "paths = sorted(glob.glob(f'{prefix}/logs/negociate17-3tau/**/rep00/', recursive=True))\n",
    "errors = 0\n",
    "allstat = []\n",
    "for path in tqdm.tqdm_notebook(paths):\n",
    "    try:\n",
    "        fitness = read_csvx(path+'/../fit.txt', delimiter=\"\\t\", names=['gen', 'min', 'q1', 'med', 'q3', 'max'])\n",
    "        params = readparams(sorted(glob.glob(path + '/properties*'))[0])\n",
    "        coop = read_csvx(gethighest(glob.glob(path + '/coop_199.txt'), 'coop_'), delimiter=\"\\t\")\n",
    "        params['coop'] = coop['coop'].mean()\n",
    "    except Exception as e:\n",
    "        errors+=1\n",
    "        pass\n",
    "    else:\n",
    "        allstat.append(params)\n",
    "df = pd.DataFrame(allstat)"
   ]
  },
  {
   "cell_type": "code",
   "execution_count": null,
   "metadata": {},
   "outputs": [],
   "source": [
    "errors / (errors + len(df))\n"
   ]
  },
  {
   "cell_type": "code",
   "execution_count": null,
   "metadata": {},
   "outputs": [],
   "source": [
    "df['nbRobots'] = df['gInitialNumberOfRobots']\n",
    "df['varPheno'] = df['fakeRobots']\n",
    "df['nbRep'] = df['nbEvaluationsPerGeneration']\n",
    "df['norm_tau'] = df['tau'] / 100000\n",
    "df['norm_tau'] = df['norm_tau'].replace(0, 1)"
   ]
  },
  {
   "cell_type": "code",
   "execution_count": null,
   "metadata": {},
   "outputs": [],
   "source": [
    "g = sns.relplot(data=df, x='nbRobots', y='coop', row='tau', col='fakeRobots', aspect=1.5, kind=\"line\")\n",
    "g.map_dataframe(sns.scatterplot, x=\"nbRobots\", y=\"coop\")\n",
    "#g.map_dataframe(sns.scatterplot, x=\"maxPlayer\", y=\"truecoopmod\", color=\"green\")\n",
    "\n",
    "#g.map_dataframe(plot_ess,  color=defectColor.hex, label=\"defect investment\")\n",
    "#g.map_dataframe(plot_so,  color=coopColor.hex, label=\"social optimum investment\")\n",
    "#g.map_dataframe(plot_span)\n",
    "#g.map(annotator, itera=iter(string.ascii_lowercase))\n",
    "#g.set(ylabel='Mean investment for $\\hat{n}$', xlabel=\"Number of agents in the environment\")\n",
    "#g.set_titles(\"$\\omega = {col_name} | \\hat{{n}} = {row_name}$\")\n",
    "\n",
    "#g.set_xlabel('Number of agents in the environment')\n",
    "g.add_legend()"
   ]
  },
  {
   "cell_type": "code",
   "execution_count": null,
   "metadata": {},
   "outputs": [],
   "source": [
    "df.query('tau == 10000')"
   ]
  },
  {
   "cell_type": "code",
   "execution_count": null,
   "metadata": {},
   "outputs": [],
   "source": [
    "import json\n",
    "paths = sorted(glob.glob(f'{prefix}/logs/negociate17-2mut*/2019-12-18-1559/**/rep00/', recursive=True))\n",
    "\n",
    "allstat = []\n",
    "for path in tqdm.tqdm_notebook(paths):\n",
    "    try:\n",
    "        fitness = read_csvx(path+'/../fit.txt', delimiter=\"\\t\", names=['gen', 'min', 'q1', 'med', 'q3', 'max'])\n",
    "        params = readparams(sorted(glob.glob(path + '/properties*'))[0])\n",
    "        coop = read_csvx(gethighest(glob.glob(path + '/coop_199.txt'), 'coop_'), delimiter=\"\\t\")\n",
    "        params['coop'] = coop['coop'].mean()\n",
    "    except Exception as e:\n",
    "        print('no analysis for',  path)\n",
    "       # print(type(e), ':', e)\n",
    "        pass\n",
    "    else:\n",
    "        allstat.append(params)\n",
    "df = pd.DataFrame(allstat)"
   ]
  },
  {
   "cell_type": "code",
   "execution_count": null,
   "metadata": {},
   "outputs": [],
   "source": [
    "df['nbRobots'] = df['gInitialNumberOfRobots']\n",
    "df['varPheno'] = df['fakeRobots']\n",
    "df['nbRep'] = df['nbEvaluationsPerGeneration']\n",
    "df['norm_tau'] = df['tau'] / 100000\n",
    "df['norm_tau'] = df['norm_tau'].replace(0, 1)"
   ]
  },
  {
   "cell_type": "code",
   "execution_count": null,
   "metadata": {},
   "outputs": [],
   "source": [
    "g = sns.relplot(data=df, x='nbRobots', y='coop', row='mutCoop', col='varPheno', aspect=1.5, kind=\"line\")\n",
    "g.map_dataframe(sns.scatterplot, x=\"nbRobots\", y=\"coop\")\n",
    "#g.map_dataframe(sns.scatterplot, x=\"maxPlayer\", y=\"truecoopmod\", color=\"green\")\n",
    "\n",
    "#g.map_dataframe(plot_ess,  color=defectColor.hex, label=\"defect investment\")\n",
    "#g.map_dataframe(plot_so,  color=coopColor.hex, label=\"social optimum investment\")\n",
    "#g.map_dataframe(plot_span)\n",
    "#g.map(annotator, itera=iter(string.ascii_lowercase))\n",
    "#g.set(ylabel='Mean investment for $\\hat{n}$', xlabel=\"Number of agents in the environment\")\n",
    "#g.set_titles(\"$\\omega = {col_name} | \\hat{{n}} = {row_name}$\")\n",
    "\n",
    "#g.set_xlabel('Number of agents in the environment')\n",
    "g.add_legend()"
   ]
  },
  {
   "cell_type": "code",
   "execution_count": null,
   "metadata": {},
   "outputs": [],
   "source": []
  },
  {
   "cell_type": "code",
   "execution_count": null,
   "metadata": {},
   "outputs": [],
   "source": []
  }
 ],
 "metadata": {
  "kernelspec": {
   "display_name": "Python 3",
   "language": "python",
   "name": "python3"
  },
  "language_info": {
   "codemirror_mode": {
    "name": "ipython",
    "version": 3
   },
   "file_extension": ".py",
   "mimetype": "text/x-python",
   "name": "python",
   "nbconvert_exporter": "python",
   "pygments_lexer": "ipython3",
   "version": "3.7.4"
  }
 },
 "nbformat": 4,
 "nbformat_minor": 4
}
