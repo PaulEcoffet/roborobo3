{
 "cells": [
  {
   "cell_type": "code",
   "execution_count": 1,
   "metadata": {},
   "outputs": [],
   "source": [
    "%matplotlib inline\n",
    "import numpy as np\n",
    "import matplotlib.pyplot as plt\n",
    "import pandas as pd\n",
    "import seaborn as sns\n",
    "from pathlib import Path\n",
    "sns.set()\n",
    "sns.set_palette(\"colorblind\")"
   ]
  },
  {
   "cell_type": "code",
   "execution_count": 2,
   "metadata": {},
   "outputs": [
    {
     "data": {
      "text/plain": [
       "[]"
      ]
     },
     "execution_count": 2,
     "metadata": {},
     "output_type": "execute_result"
    }
   ],
   "source": [
    "logdir = Path('/data/logs/2018-05-15-1737-bm-grid-fake-mulambda//')\n",
    "list(logdir.glob('*/*'))"
   ]
  },
  {
   "cell_type": "code",
   "execution_count": 3,
   "metadata": {
    "scrolled": false
   },
   "outputs": [],
   "source": [
    "def p(x, x0, a, b, n=2):\n",
    "    return (a * (x + (n-1) * x0) + b * (n - 1) * x0) / n - 1/2 * x**2\n",
    "\n",
    "rsize = 1\n",
    "\n",
    "\n",
    "cond = '' # bigmodel_ab_new\n",
    "\n",
    "\n",
    "for path in sorted(list(logdir.glob('{}*/*/'.format(cond)))):\n",
    "    dat = np.loadtxt(path / 'fit.dat', comments=[\"%\", \"#\"])\n",
    "    df = pd.DataFrame(data=dat, columns=\"iteration,evaluation,sigma,axisratio,bestever,best,median,worst\".split(\",\"))\n",
    "    df[['best', 'median', 'worst']] = -df[['best', 'median', 'worst']]\n",
    "    df[['best', 'median']].plot(figsize=(7, 5))\n",
    "    if cond.startswith('big'):\n",
    "        nbrep = 3\n",
    "        nbeval = 1\n",
    "        a = 5\n",
    "        b = 1\n",
    "        n = 2\n",
    "        percent = 0.90\n",
    "        xess = a/n\n",
    "        xso = a + (n - 1)/n * b\n",
    "        plt.axhline(5000*p(xess, xess, a, b)*percent*nbrep*nbeval, color=\"r\", label=f\"fitness si tous jouent xESS\\n{percent*100}% du temps\")\n",
    "        plt.axhline(5000*p(xso, xso, a, b)*percent*nbrep*nbeval, color=\"g\", label=f\"fitness si tous jouent xSO\\n{percent*100}% du temps\")\n",
    "    if cond.startswith('correp'):\n",
    "        plt.axhline(2500*1*0.80, color=\"g\", label=\"2\")\n",
    "        plt.axhline(2500*0.5*0.80, color=\"r\", label=\"1 ou 3\")\n",
    "    plt.title(\"{}/{}\".format(path.parent.name, path.name))\n",
    "    plt.legend(bbox_to_anchor=(1.04,1), loc=\"upper left\")\n",
    "    plt.show();"
   ]
  },
  {
   "cell_type": "code",
   "execution_count": null,
   "metadata": {},
   "outputs": [],
   "source": []
  }
 ],
 "metadata": {
  "kernelspec": {
   "display_name": "Python 3",
   "language": "python",
   "name": "python3"
  },
  "language_info": {
   "codemirror_mode": {
    "name": "ipython",
    "version": 3
   },
   "file_extension": ".py",
   "mimetype": "text/x-python",
   "name": "python",
   "nbconvert_exporter": "python",
   "pygments_lexer": "ipython3",
   "version": "3.7.1"
  }
 },
 "nbformat": 4,
 "nbformat_minor": 2
}
