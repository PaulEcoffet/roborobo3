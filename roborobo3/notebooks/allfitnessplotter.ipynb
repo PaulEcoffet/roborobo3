{
 "cells": [
  {
   "cell_type": "code",
   "execution_count": 10,
   "metadata": {},
   "outputs": [],
   "source": [
    "%matplotlib inline\n",
    "import numpy as np\n",
    "import matplotlib.pyplot as plt\n",
    "import pandas as pd\n",
    "import seaborn as sns\n",
    "from pathlib import Path\n",
    "sns.set()\n",
    "sns.set_palette(\"colorblind\")"
   ]
  },
  {
   "cell_type": "code",
   "execution_count": 19,
   "metadata": {},
   "outputs": [],
   "source": [
    "logdir = Path('/data/logs/')"
   ]
  },
  {
   "cell_type": "code",
   "execution_count": 17,
   "metadata": {
    "scrolled": false
   },
   "outputs": [],
   "source": [
    "rsize = 100\n",
    "\n",
    "for path in sorted(list(logdir.glob('bigmodel_ab_*'))):\n",
    "    try:\n",
    "        df = pd.read_csv(path / 'fitnesslog.txt', delimiter=\"\\t\")\n",
    "    except FileNotFoundError:\n",
    "        df = pd.read_csv(path / 'rep0' / 'fitnesslog.txt', delimiter=\"\\t\")\n",
    "    plt.figure()\n",
    "    df.query('gen < {}'.format(df['gen'].max()-1), inplace=True)\n",
    "    fit = df.groupby(('gen', 'ind'), as_index=False)['fitness'].mean()\n",
    "    fit.groupby('gen')['fitness'].median().rolling(rsize).mean().plot()\n",
    "    fit.groupby('gen')['fitness'].max().rolling(rsize).mean().plot()\n",
    "    #fit.groupby('gen')['fitness'].min().rolling(rsize).mean().plot()\n",
    "    plt.axhline(5000*0.47*0.75, color=\"r\", label=\"ESS\")\n",
    "    plt.axhline(5000*2*0.75, color=\"g\", label=\"SO\")\n",
    "    plt.ylim(0, 4000)\n",
    "    plt.xlim(0, 30000)\n",
    "    plt.title(path.name)\n",
    "    plt.legend()"
   ]
  },
  {
   "cell_type": "code",
   "execution_count": 18,
   "metadata": {},
   "outputs": [
    {
     "data": {
      "text/plain": [
       "PosixPath('sftp:/paul@134.157.18.197/home/paul/Documents/work/logs')"
      ]
     },
     "execution_count": 18,
     "metadata": {},
     "output_type": "execute_result"
    }
   ],
   "source": []
  },
  {
   "cell_type": "code",
   "execution_count": null,
   "metadata": {},
   "outputs": [],
   "source": []
  }
 ],
 "metadata": {
  "kernelspec": {
   "display_name": "Python 3",
   "language": "python",
   "name": "python3"
  },
  "language_info": {
   "codemirror_mode": {
    "name": "ipython",
    "version": 3
   },
   "file_extension": ".py",
   "mimetype": "text/x-python",
   "name": "python",
   "nbconvert_exporter": "python",
   "pygments_lexer": "ipython3",
   "version": "3.6.3"
  }
 },
 "nbformat": 4,
 "nbformat_minor": 2
}
