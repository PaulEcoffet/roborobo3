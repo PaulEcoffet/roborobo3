{
 "cells": [
  {
   "cell_type": "code",
   "execution_count": null,
   "metadata": {},
   "outputs": [],
   "source": [
    "import sys\n",
    "sys.path.append('/home/pecoffet/Documents/work/roborobo3/roborobo3/notebooks')"
   ]
  },
  {
   "cell_type": "code",
   "execution_count": 2,
   "metadata": {},
   "outputs": [],
   "source": [
    "import glob\n",
    "import loader\n",
    "import seaborn as sns\n",
    "import numpy as np\n",
    "import tqdm\n",
    "import pandas as pd\n",
    "import matplotlib.pyplot as plt\n",
    "from PIL import Image"
   ]
  },
  {
   "cell_type": "code",
   "execution_count": null,
   "metadata": {},
   "outputs": [],
   "source": [
    "#mainpaths = '/home/pecoffet/remoterobo/logs/bm-alife-tp-allconf-method2-noclamp-2019-03-13-0358/fake_see/**/rep00'\n",
    "mainpaths = '/home/pecoffet/remoterobo/logs/bm-alife-tp-allconf-method2-noclamp-bigsig-max50-2019-04-08-1503/nofake_see/**/rep00'\n",
    "paths = sorted(glob.glob(mainpaths))\n",
    "run = 0\n",
    "for name, fit in zip(paths, loader.getfitness(paths)):\n",
    "    print('kikoo')\n",
    "    gensamples = list(range(999, 9001, 1000)) + [9999]\n",
    "    totgen = [{'inv': 0, 'generation': 0, 'run': run}]\n",
    "    print(name)\n",
    "    for curgen, gens in zip(gensamples, loader.getgenomes([name], gensamples, forgiving=False)):\n",
    "        for gen in gens:\n",
    "            totgen.append({'generation': curgen + 1, 'inv': gen, 'run': run})\n",
    "    plt.figure(figsize=(5.1, 5.1/1.62))\n",
    "    sns.violinplot(data=fit.query('gen % 1000 == 0 or gen == 9999'), x='gen', y='fitness', cut=0, scale='count', color=\"#777777\")\n",
    "    plt.ylim(0, None)\n",
    "    plt.show()\n",
    "    plt.figure(figsize=(5.1, 5.1/1.62))\n",
    "    dfgen = pd.DataFrame(totgen)\n",
    "    #print(dfgen)\n",
    "    sns.violinplot(data=dfgen, x='generation', y='inv', scale='count', cut=0, color=\"#777777\")\n",
    "    plt.ylim(0, 20)\n",
    "    plt.axhline(2.5, label=\"$x_{selfish}$\", c=\"#963d35\", linewidth=2, alpha=0.5)\n",
    "    plt.axhline(6.5, label=\"$x_{cooperate}$\", c=\"#3375b2\", linewidth=2, alpha=0.5)\n",
    "\n",
    "    plt.show()\n",
    "    run += 1"
   ]
  },
  {
   "cell_type": "code",
   "execution_count": null,
   "metadata": {},
   "outputs": [],
   "source": []
  },
  {
   "cell_type": "code",
   "execution_count": null,
   "metadata": {},
   "outputs": [],
   "source": []
  }
 ],
 "metadata": {
  "kernelspec": {
   "display_name": "Python 3",
   "language": "python",
   "name": "python3"
  },
  "language_info": {
   "codemirror_mode": {
    "name": "ipython",
    "version": 3
   },
   "file_extension": ".py",
   "mimetype": "text/x-python",
   "name": "python",
   "nbconvert_exporter": "python",
   "pygments_lexer": "ipython3",
   "version": "3.6.7"
  }
 },
 "nbformat": 4,
 "nbformat_minor": 2
}
