{
 "cells": [
  {
   "cell_type": "code",
   "execution_count": null,
   "metadata": {},
   "outputs": [],
   "source": [
    "import numpy as np\n",
    "import matplotlib.pyplot as plt\n",
    "import seaborn as sns\n",
    "sns.set()\n",
    "sns.set_context('paper')\n",
    "sns.set_palette('colorblind')"
   ]
  },
  {
   "cell_type": "code",
   "execution_count": null,
   "metadata": {},
   "outputs": [],
   "source": [
    "a = 5\n",
    "b = 10\n",
    "def xess():\n",
    "    return a/2\n",
    "def xso():\n",
    "    return a + b - b/2\n",
    "def payoff(x, x0, n, beta=None):\n",
    "    if beta:\n",
    "        return np.exp(((a * (x + (n-1) * x0) + b * (n-1) * x0) / n - 1/2 * x**2)/beta)\n",
    "    else: \n",
    "        return ((a * (x + (n-1) * x0) + b * (n-1) * x0) / n - 1/2 * x**2)"
   ]
  },
  {
   "cell_type": "code",
   "execution_count": null,
   "metadata": {},
   "outputs": [],
   "source": [
    "sns.set_context('paper')\n",
    "sns.set_style('white')\n",
    "x = np.linspace(0, 15, 1000)\n",
    "plt.figure(figsize=(5, 5/1.61))\n",
    "plt.plot(x, payoff(x, xess(), 2), label=\"Partner defects: $P(x, x_{d})$\")\n",
    "plt.plot(x, payoff(x, xso(), 2), label=\"Partner cooperates: $P(x, x_{so})$\")\n",
    "plt.plot(x, payoff(x, x, 2), label=\"Partner copies focal player: $P(x_., x_.)$\")\n",
    "\n",
    "plt.annotate(\"Selfish optimum\", (2.5, payoff(2.5, 2.5, 2)), (1.5, 50), arrowprops=dict(edgecolor='black', arrowstyle=\"->\"))\n",
    "plt.annotate(\"Selfish optimum\", (2.5, payoff(2.5, 10, 2)), (1.5, 50), alpha=0, arrowprops=dict(edgecolor='black', arrowstyle=\"->\"))\n",
    "plt.annotate(\"Social optimum\", (10, payoff(10, 10, 2)), (6, 25), arrowprops=dict(edgecolor='black', arrowstyle=\"->\"))\n",
    "plt.ylim(-5, 100)\n",
    "plt.legend()\n",
    "plt.ylabel('Payoff')\n",
    "plt.xlabel('Focal investment $x_.$')\n",
    "sns.despine()\n",
    "plt.tight_layout()\n",
    "#plt.title(\"Différentes fonctions de Payoff en fonction de l'investissement du partenaire\")\n",
    "plt.savefig('payoff.pdf')"
   ]
  },
  {
   "cell_type": "code",
   "execution_count": null,
   "metadata": {},
   "outputs": [],
   "source": [
    "beta = 5\n",
    "print(\"xso/ xess:\", payoff(xso(), xso(), 2, beta) / payoff(xess(), xess(), 2, beta))\n",
    "print(\"xsalo/ xess:\", payoff(xess(), xso(), 2, beta) / payoff(xess(), xess(), 2, beta))\n",
    "print(\"xsalo/ xso:\", payoff(xess(), xso(), 2, beta) / payoff(xso(), xso(), 2, beta))"
   ]
  },
  {
   "cell_type": "code",
   "execution_count": null,
   "metadata": {},
   "outputs": [],
   "source": [
    "plt.plot(x, payoff(x, xess(), 2, beta), label=\"Partner plays selfish: $P(x, x_{selfish})$\")\n",
    "plt.plot(x, payoff(x, xso(), 2, beta), label=\"Partner plays cooperative: $P(x, x_{cooperative})$\")\n",
    "plt.plot(x, payoff(x, x, 2, beta), label=\"Partner plays as focal player: $P(x, x)$\")\n",
    "#plt.plot(x, payoff(xess(), x, 2, beta), label=\"Partner plays as focal player: $P(x, x)$\")\n"
   ]
  },
  {
   "cell_type": "code",
   "execution_count": null,
   "metadata": {},
   "outputs": [],
   "source": [
    "payoff(a + b/2, a+b/2, 2)"
   ]
  },
  {
   "cell_type": "code",
   "execution_count": null,
   "metadata": {},
   "outputs": [],
   "source": []
  }
 ],
 "metadata": {
  "kernelspec": {
   "display_name": "Python 3",
   "language": "python",
   "name": "python3"
  },
  "language_info": {
   "codemirror_mode": {
    "name": "ipython",
    "version": 3
   },
   "file_extension": ".py",
   "mimetype": "text/x-python",
   "name": "python",
   "nbconvert_exporter": "python",
   "pygments_lexer": "ipython3",
   "version": "3.7.4"
  }
 },
 "nbformat": 4,
 "nbformat_minor": 4
}
