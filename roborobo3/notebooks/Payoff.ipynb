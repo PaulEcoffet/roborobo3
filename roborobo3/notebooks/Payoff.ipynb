{
 "cells": [
  {
   "cell_type": "code",
   "execution_count": null,
   "metadata": {},
   "outputs": [],
   "source": [
    "import numpy as np\n",
    "import matplotlib.pyplot as plt\n",
    "import seaborn as sns\n",
    "sns.set()\n",
    "sns.set_context('paper')\n",
    "sns.set_palette('colorblind')"
   ]
  },
  {
   "cell_type": "code",
   "execution_count": null,
   "metadata": {},
   "outputs": [],
   "source": [
    "a = 5\n",
    "b = 10\n",
    "def xess(n=2):\n",
    "    return a/n\n",
    "def xso(n=2):\n",
    "    return a + b - b/n\n",
    "def payoff(x, x0, n, beta=None):\n",
    "    if beta:\n",
    "        return np.exp(((a * (x + (n-1) * x0) + b * (n-1) * x0) / n - 1/2 * x**2)/beta)\n",
    "    else: \n",
    "        return ((a * (x + (n-1) * x0) + b * (n-1) * x0) / n - 1/2 * x**2)"
   ]
  },
  {
   "cell_type": "code",
   "execution_count": null,
   "metadata": {},
   "outputs": [],
   "source": [
    "sns.set_context('poster')\n",
    "sns.set_style('white')\n",
    "x = np.linspace(0, 15, 1000)\n",
    "plt.figure(figsize=(12, 12/1.61))\n",
    "plt.plot(x, payoff(x, xess(2), 2), label=\"Partner defects: $P(x, x_{d})$\")\n",
    "plt.plot(x, payoff(x, xso(2), 2), label=\"Partner cooperates: $P(x, x_{so})$\")\n",
    "plt.plot(x, payoff(x, x, 2), label=\"Partner copies focal player: $P(x_., x_.)$\")\n",
    "\n",
    "plt.annotate(\"Selfish optimum\", (2.5, payoff(2.5, 2.5, 2)), (1.5, 50), arrowprops=dict(edgecolor='black', arrowstyle=\"->\"))\n",
    "plt.annotate(\"Selfish optimum\", (2.5, payoff(2.5, 10, 2)), (1.5, 50), alpha=0, arrowprops=dict(edgecolor='black', arrowstyle=\"->\"))\n",
    "plt.annotate(\"Social optimum\", (10, payoff(10, 10, 2)), (6, 25), arrowprops=dict(edgecolor='black', arrowstyle=\"->\"))\n",
    "plt.ylim(-5, 100)\n",
    "plt.legend()\n",
    "plt.ylabel('Payoff')\n",
    "plt.xlabel('Focal investment $x_.$')\n",
    "sns.despine()\n",
    "plt.tight_layout()\n",
    "#plt.title(\"Différentes fonctions de Payoff en fonction de l'investissement du partenaire\")\n",
    "plt.savefig('payoff.pdf')"
   ]
  },
  {
   "cell_type": "code",
   "execution_count": null,
   "metadata": {},
   "outputs": [],
   "source": [
    "beta = 5\n",
    "print(\"xso/ xess:\", payoff(xso(), xso(), 2, beta) / payoff(xess(), xess(), 2, beta))\n",
    "print(\"xsalo/ xess:\", payoff(xess(), xso(), 2, beta) / payoff(xess(), xess(), 2, beta))\n",
    "print(\"xsalo/ xso:\", payoff(xess(), xso(), 2, beta) / payoff(xso(), xso(), 2, beta))"
   ]
  },
  {
   "cell_type": "code",
   "execution_count": null,
   "metadata": {},
   "outputs": [],
   "source": [
    "def bell(n, nhat, sigma):\n",
    "    return np.exp(-(n-nhat)**2 / (2*sigma**2))\n",
    "\n",
    "def benefit(x, x0, n):\n",
    "    return ((a * (x + (n-1) * x0) + b * (n-1) * x0) / n)\n",
    "\n",
    "def cost(x):\n",
    "    return 1/2 * x**2"
   ]
  },
  {
   "cell_type": "code",
   "execution_count": null,
   "metadata": {},
   "outputs": [],
   "source": [
    "x = np.arange(1, 6)\n",
    "plt.figure(figsize=(10, 10/1.61))\n",
    "plt.scatter(x, payoff(xso(x), xso(x), 2) * bell(x, 2, 0.7), label=\"SO\")\n",
    "plt.scatter(x, payoff(xess(x), xess(x), 2) * bell(x, 2, 0.7), label=\"ESS\")\n",
    "\n",
    "plt.legend()\n",
    "plt.ylabel('Payoff')\n",
    "plt.xlabel('Number of agents on the opportunity')\n",
    "sns.despine()\n",
    "plt.tight_layout()\n",
    "#plt.title(\"Différentes fonctions de Payoff en fonction de l'investissement du partenaire\")\n",
    "plt.savefig('payoff.pdf')"
   ]
  },
  {
   "cell_type": "code",
   "execution_count": null,
   "metadata": {},
   "outputs": [],
   "source": []
  },
  {
   "cell_type": "code",
   "execution_count": null,
   "metadata": {},
   "outputs": [],
   "source": []
  }
 ],
 "metadata": {
  "kernelspec": {
   "display_name": "Python 3",
   "language": "python",
   "name": "python3"
  },
  "language_info": {
   "codemirror_mode": {
    "name": "ipython",
    "version": 3
   },
   "file_extension": ".py",
   "mimetype": "text/x-python",
   "name": "python",
   "nbconvert_exporter": "python",
   "pygments_lexer": "ipython3",
   "version": "3.7.4"
  }
 },
 "nbformat": 4,
 "nbformat_minor": 4
}
