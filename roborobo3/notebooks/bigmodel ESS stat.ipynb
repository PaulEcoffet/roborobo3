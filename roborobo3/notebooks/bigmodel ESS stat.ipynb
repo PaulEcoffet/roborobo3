{
 "cells": [
  {
   "cell_type": "code",
   "execution_count": 3,
   "metadata": {},
   "outputs": [],
   "source": [
    "%matplotlib inline\n",
    "import numpy as np\n",
    "import matplotlib.pyplot as plt\n",
    "import seaborn as sns\n",
    "import scipy\n",
    "import pandas as pd\n",
    "from pathlib import Path\n",
    "sns.set()\n",
    "sns.set_palette('colorblind');"
   ]
  },
  {
   "cell_type": "code",
   "execution_count": 95,
   "metadata": {},
   "outputs": [],
   "source": [
    "logfile = '/data/logs/2018-03-20-1825-bigmodel-b3/bigmodel_mlp_nolim/run_5/rep{:02}/logall_35999.txt'"
   ]
  },
  {
   "cell_type": "code",
   "execution_count": 96,
   "metadata": {},
   "outputs": [
    {
     "data": {
      "text/plain": [
       "eval            0.000000\n",
       "iter         2503.574781\n",
       "id             14.285479\n",
       "a               5.340095\n",
       "onOpp           1.000000\n",
       "nbOnOpp         1.958838\n",
       "curCoop         2.025441\n",
       "meanOwn         2.082811\n",
       "meanTotal       3.430882\n",
       "dtype: float64"
      ]
     },
     "execution_count": 96,
     "metadata": {},
     "output_type": "execute_result"
    }
   ],
   "source": [
    "i = 0\n",
    "ok = True\n",
    "logs = []\n",
    "while ok:\n",
    "    try:\n",
    "        logs.append(pd.read_csv(logfile.format(i), delimiter=\"\\t\"))\n",
    "    except:\n",
    "        ok = False\n",
    "    else:\n",
    "        i += 1\n",
    "log = pd.concat(logs)\n",
    "    \n",
    "log.query('onOpp == 1').mean()"
   ]
  },
  {
   "cell_type": "code",
   "execution_count": 97,
   "metadata": {},
   "outputs": [
    {
     "data": {
      "text/html": [
       "<div>\n",
       "<style scoped>\n",
       "    .dataframe tbody tr th:only-of-type {\n",
       "        vertical-align: middle;\n",
       "    }\n",
       "\n",
       "    .dataframe tbody tr th {\n",
       "        vertical-align: top;\n",
       "    }\n",
       "\n",
       "    .dataframe thead th {\n",
       "        text-align: right;\n",
       "    }\n",
       "</style>\n",
       "<table border=\"1\" class=\"dataframe\">\n",
       "  <thead>\n",
       "    <tr style=\"text-align: right;\">\n",
       "      <th></th>\n",
       "      <th>eval</th>\n",
       "      <th>iter</th>\n",
       "      <th>id</th>\n",
       "      <th>a</th>\n",
       "      <th>onOpp</th>\n",
       "      <th>nbOnOpp</th>\n",
       "      <th>curCoop</th>\n",
       "      <th>meanOwn</th>\n",
       "      <th>meanTotal</th>\n",
       "    </tr>\n",
       "  </thead>\n",
       "  <tbody>\n",
       "    <tr>\n",
       "      <th>431</th>\n",
       "      <td>0</td>\n",
       "      <td>14</td>\n",
       "      <td>11</td>\n",
       "      <td>3.94266</td>\n",
       "      <td>1</td>\n",
       "      <td>2</td>\n",
       "      <td>4.230290</td>\n",
       "      <td>4.230290</td>\n",
       "      <td>8.308920</td>\n",
       "    </tr>\n",
       "    <tr>\n",
       "      <th>446</th>\n",
       "      <td>0</td>\n",
       "      <td>14</td>\n",
       "      <td>26</td>\n",
       "      <td>5.47131</td>\n",
       "      <td>1</td>\n",
       "      <td>2</td>\n",
       "      <td>4.078630</td>\n",
       "      <td>4.251390</td>\n",
       "      <td>5.308970</td>\n",
       "    </tr>\n",
       "    <tr>\n",
       "      <th>461</th>\n",
       "      <td>0</td>\n",
       "      <td>15</td>\n",
       "      <td>11</td>\n",
       "      <td>3.94266</td>\n",
       "      <td>1</td>\n",
       "      <td>2</td>\n",
       "      <td>0.006251</td>\n",
       "      <td>2.118270</td>\n",
       "      <td>4.227880</td>\n",
       "    </tr>\n",
       "    <tr>\n",
       "      <th>472</th>\n",
       "      <td>0</td>\n",
       "      <td>15</td>\n",
       "      <td>22</td>\n",
       "      <td>2.78273</td>\n",
       "      <td>1</td>\n",
       "      <td>2</td>\n",
       "      <td>0.140598</td>\n",
       "      <td>0.140598</td>\n",
       "      <td>0.146849</td>\n",
       "    </tr>\n",
       "    <tr>\n",
       "      <th>521</th>\n",
       "      <td>0</td>\n",
       "      <td>17</td>\n",
       "      <td>11</td>\n",
       "      <td>3.94266</td>\n",
       "      <td>1</td>\n",
       "      <td>2</td>\n",
       "      <td>0.134363</td>\n",
       "      <td>1.134220</td>\n",
       "      <td>2.404680</td>\n",
       "    </tr>\n",
       "    <tr>\n",
       "      <th>536</th>\n",
       "      <td>0</td>\n",
       "      <td>17</td>\n",
       "      <td>26</td>\n",
       "      <td>5.47131</td>\n",
       "      <td>1</td>\n",
       "      <td>2</td>\n",
       "      <td>0.143973</td>\n",
       "      <td>0.118050</td>\n",
       "      <td>0.581485</td>\n",
       "    </tr>\n",
       "    <tr>\n",
       "      <th>583</th>\n",
       "      <td>0</td>\n",
       "      <td>19</td>\n",
       "      <td>13</td>\n",
       "      <td>3.46964</td>\n",
       "      <td>1</td>\n",
       "      <td>2</td>\n",
       "      <td>4.141640</td>\n",
       "      <td>4.144370</td>\n",
       "      <td>4.355530</td>\n",
       "    </tr>\n",
       "    <tr>\n",
       "      <th>591</th>\n",
       "      <td>0</td>\n",
       "      <td>19</td>\n",
       "      <td>21</td>\n",
       "      <td>3.57919</td>\n",
       "      <td>1</td>\n",
       "      <td>2</td>\n",
       "      <td>2.111560</td>\n",
       "      <td>2.111560</td>\n",
       "      <td>6.253200</td>\n",
       "    </tr>\n",
       "    <tr>\n",
       "      <th>613</th>\n",
       "      <td>0</td>\n",
       "      <td>20</td>\n",
       "      <td>13</td>\n",
       "      <td>3.46964</td>\n",
       "      <td>1</td>\n",
       "      <td>2</td>\n",
       "      <td>3.847600</td>\n",
       "      <td>4.114320</td>\n",
       "      <td>4.326150</td>\n",
       "    </tr>\n",
       "    <tr>\n",
       "      <th>621</th>\n",
       "      <td>0</td>\n",
       "      <td>20</td>\n",
       "      <td>21</td>\n",
       "      <td>3.57919</td>\n",
       "      <td>1</td>\n",
       "      <td>2</td>\n",
       "      <td>0.006752</td>\n",
       "      <td>1.059160</td>\n",
       "      <td>5.053780</td>\n",
       "    </tr>\n",
       "  </tbody>\n",
       "</table>\n",
       "</div>"
      ],
      "text/plain": [
       "     eval  iter  id        a  onOpp  nbOnOpp   curCoop   meanOwn  meanTotal\n",
       "431     0    14  11  3.94266      1        2  4.230290  4.230290   8.308920\n",
       "446     0    14  26  5.47131      1        2  4.078630  4.251390   5.308970\n",
       "461     0    15  11  3.94266      1        2  0.006251  2.118270   4.227880\n",
       "472     0    15  22  2.78273      1        2  0.140598  0.140598   0.146849\n",
       "521     0    17  11  3.94266      1        2  0.134363  1.134220   2.404680\n",
       "536     0    17  26  5.47131      1        2  0.143973  0.118050   0.581485\n",
       "583     0    19  13  3.46964      1        2  4.141640  4.144370   4.355530\n",
       "591     0    19  21  3.57919      1        2  2.111560  2.111560   6.253200\n",
       "613     0    20  13  3.46964      1        2  3.847600  4.114320   4.326150\n",
       "621     0    20  21  3.57919      1        2  0.006752  1.059160   5.053780"
      ]
     },
     "execution_count": 97,
     "metadata": {},
     "output_type": "execute_result"
    }
   ],
   "source": [
    "on_opp = log.query('onOpp == 1 and nbOnOpp == 2')\n",
    "on_opp.head(10)"
   ]
  },
  {
   "cell_type": "code",
   "execution_count": 98,
   "metadata": {
    "scrolled": false
   },
   "outputs": [
    {
     "name": "stdout",
     "output_type": "stream",
     "text": [
      "3.194011254371562\n"
     ]
    },
    {
     "data": {
      "text/plain": [
       "3.5"
      ]
     },
     "execution_count": 98,
     "metadata": {},
     "output_type": "execute_result"
    },
    {
     "data": {
      "image/png": "[encoded data removed]",
      "text/plain": [
       "<matplotlib.figure.Figure at 0x7f05184ab7f0>"
      ]
     },
     "metadata": {},
     "output_type": "display_data"
    },
    {
     "data": {
      "image/png": "[encoded data removed]",
      "text/plain": [
       "<matplotlib.figure.Figure at 0x7f0517f7a748>"
      ]
     },
     "metadata": {},
     "output_type": "display_data"
    }
   ],
   "source": [
    "sns.distplot(on_opp['curCoop'], label=\"curcoop\")\n",
    "sns.distplot(on_opp['a']/on_opp['nbOnOpp'], label=\"ess\")\n",
    "plt.legend()\n",
    "plt.figure()\n",
    "sns.distplot(on_opp['meanTotal'], label=\"meanTotal\")\n",
    "sns.distplot(on_opp['a'], label=\"ess\")\n",
    "plt.legend()\n",
    "print(on_opp['curCoop'].mean() * 2)\n",
    "(5*0.7)\n"
   ]
  },
  {
   "cell_type": "code",
   "execution_count": 99,
   "metadata": {},
   "outputs": [
    {
     "name": "stdout",
     "output_type": "stream",
     "text": [
      "NormaltestResult(statistic=9321.546243104205, pvalue=0.0)\n",
      "NormaltestResult(statistic=3009.4580398829103, pvalue=0.0)\n"
     ]
    }
   ],
   "source": [
    "print(scipy.stats.normaltest(on_opp['curCoop']))\n",
    "print(scipy.stats.normaltest(on_opp['a']))"
   ]
  },
  {
   "cell_type": "markdown",
   "metadata": {},
   "source": [
    "Not normal, so wilcoxon"
   ]
  },
  {
   "cell_type": "code",
   "execution_count": 100,
   "metadata": {},
   "outputs": [
    {
     "data": {
      "text/plain": [
       "WilcoxonResult(statistic=4086449929.0, pvalue=0.0)"
      ]
     },
     "execution_count": 100,
     "metadata": {},
     "output_type": "execute_result"
    }
   ],
   "source": [
    "scipy.stats.wilcoxon(on_opp['curCoop'], on_opp['a']/on_opp['nbOnOpp'])"
   ]
  },
  {
   "cell_type": "code",
   "execution_count": 101,
   "metadata": {},
   "outputs": [
    {
     "data": {
      "text/plain": [
       "(0.464382, 2.713995)"
      ]
     },
     "execution_count": 101,
     "metadata": {},
     "output_type": "execute_result"
    }
   ],
   "source": [
    "on_opp['curCoop'].median(), (on_opp['a']/on_opp['nbOnOpp']).median()"
   ]
  },
  {
   "cell_type": "code",
   "execution_count": 83,
   "metadata": {},
   "outputs": [
    {
     "data": {
      "text/plain": [
       "<matplotlib.axes._subplots.AxesSubplot at 0x7f051852d860>"
      ]
     },
     "execution_count": 83,
     "metadata": {},
     "output_type": "execute_result"
    },
    {
     "data": {
      "image/png": "[encoded data removed]",
      "text/plain": [
       "<matplotlib.figure.Figure at 0x7f051846d1d0>"
      ]
     },
     "metadata": {},
     "output_type": "display_data"
    }
   ],
   "source": [
    "sns.distplot(log.groupby('id').mean()['a'])"
   ]
  },
  {
   "cell_type": "code",
   "execution_count": null,
   "metadata": {},
   "outputs": [],
   "source": []
  },
  {
   "cell_type": "code",
   "execution_count": null,
   "metadata": {},
   "outputs": [],
   "source": []
  }
 ],
 "metadata": {
  "kernelspec": {
   "display_name": "Python 3",
   "language": "python",
   "name": "python3"
  },
  "language_info": {
   "codemirror_mode": {
    "name": "ipython",
    "version": 3
   },
   "file_extension": ".py",
   "mimetype": "text/x-python",
   "name": "python",
   "nbconvert_exporter": "python",
   "pygments_lexer": "ipython3",
   "version": "3.6.3"
  }
 },
 "nbformat": 4,
 "nbformat_minor": 2
}
