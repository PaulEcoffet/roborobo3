{
 "cells": [
  {
   "cell_type": "code",
   "execution_count": null,
   "metadata": {},
   "outputs": [],
   "source": [
    "import pandas as pd\n",
    "import matplotlib.pyplot as plt\n",
    "import numpy as np\n",
    "import seaborn as sns\n",
    "import glob\n",
    "import scipy.stats\n",
    "from IPython.display import Video, display, HTML\n",
    "import re\n",
    "from colour import Color\n",
    "\n",
    "sns.set()\n",
    "\n",
    "\n",
    "def gethighest(vals, prefix=\"logall_\"):\n",
    "        m = np.argmax([int(re.search(f'{prefix}(\\d+)', val).group(1)) for val in vals])\n",
    "        return vals[m]\n",
    "\n",
    "def read_csvx(path, *args, **kwargs):\n",
    "    try:\n",
    "        return pd.read_csv(str(path) +'.gz', *args, **kwargs)\n",
    "    except FileNotFoundError as e:\n",
    "        return pd.read_csv(str(path), *args, **kwargs)\n",
    "\n",
    "        \n",
    "def readparams(file):\n",
    "    params = {} \n",
    "    with open(file) as f:\n",
    "        for line in f:\n",
    "            line = line[:-1]  # remove \\n\n",
    "            if not line or line.startswith('#') or line.startswith('import'):\n",
    "                continue\n",
    "            key, val = line.split('=')\n",
    "            if val.lower() == 'true' or val.lower() == 'false':\n",
    "                params[key] = val.lower() == 'true'\n",
    "            else:\n",
    "                try:\n",
    "                    params[key] = float(val)\n",
    "                except ValueError:\n",
    "                    params[key] = val\n",
    "    return params"
   ]
  },
  {
   "cell_type": "code",
   "execution_count": null,
   "metadata": {},
   "outputs": [],
   "source": [
    "from IPython.display import HTML, display\n",
    "from ipywidgets import widgets\n",
    "a = widgets.Text()\n",
    "import uuid\n",
    "classname='user-agent-content'+str(uuid.uuid4())\n",
    "a.add_class(classname)\n",
    "display(a)"
   ]
  },
  {
   "cell_type": "code",
   "execution_count": null,
   "metadata": {},
   "outputs": [],
   "source": [
    "HTML(\"\"\"\n",
    "<script>\n",
    "'use strict';\n",
    "// Get the element\n",
    "var inp = document.getElementsByClassName(\n",
    "     '\"\"\" + str(classname) + \"\"\"')[0].getElementsByTagName('input')[0];\n",
    "\n",
    "// Set the UA\n",
    "inp.value = window.navigator.userAgent;\n",
    "\n",
    "// Trigger change for Jupyter lab kernel\n",
    "var evt = new Event('change', {\"bubbles\":true, \"cancelable\":false});\n",
    "inp.dispatchEvent(evt);\n",
    "</script>\n",
    "User Agent set\n",
    "\"\"\")"
   ]
  },
  {
   "cell_type": "code",
   "execution_count": null,
   "metadata": {},
   "outputs": [],
   "source": [
    "if 'Mac OS' in a.value :\n",
    "    %config InlineBackend.figure_format = 'retina'\n",
    "    print('retina set')\n"
   ]
  },
  {
   "cell_type": "code",
   "execution_count": null,
   "metadata": {},
   "outputs": [],
   "source": [
    "dfful = pd.read_pickle('all_file_loaded_lionscross10-procbtest.pkl.gz')\n",
    "dfcond = dfful.query('(gNbOfPhysicalObjects == 10 or gNbOfPhysicalObjects == 20 or gNbOfPhysicalObjects == 40) and (nOpti == 2 or nOpti == 4)')"
   ]
  },
  {
   "cell_type": "code",
   "execution_count": null,
   "metadata": {},
   "outputs": [],
   "source": [
    "%matplotlib inline\n",
    "sns.set_context('paper')\n",
    "sns.set_style('white')\n",
    "\n",
    "## Colors\n",
    "coopColor = Color(\"#3375b2\")\n",
    "defectColor = Color(\"#963d35\")\n",
    "badtoomany = Color(\"#963d35\")\n",
    "badtoomany.luminance *= 2\n",
    "badnotenough = Color(\"#963d35\")\n",
    "badnotenough.luminance *= 1\n",
    "good = Color(\"#3375b2\")\n",
    "\n",
    "\n",
    "## Helpers\n",
    "def plot_ess(data, *args, **kwargs):\n",
    "    nopti = data['nOpti'].mean()\n",
    "    plt.axhline(5/nopti, *args, **kwargs)\n",
    "    \n",
    "def plot_so(data, *args, **kwargs):\n",
    "    nopti = data['nOpti'].mean()\n",
    "    plt.axhline(5 + 10 * (nopti-1)/nopti, *args, **kwargs)\n",
    "def plot_span(data, *args, **kwargs):\n",
    "\n",
    "    nhat = data['nOpti'].mean()\n",
    "    omega = data['gNbOfPhysicalObjects'].mean()\n",
    "    vs = plt.axvspan(0, nhat+1, alpha=0.1, color=badnotenough.hex, label=\"Not enough agents\")\n",
    "    vs.set_zorder(0)\n",
    "    vs = plt.axvspan(nhat+1, min(nhat*omega+1, 102), alpha=0.1, color=good.hex, label=\"Enough opportunities and agents\")\n",
    "    vs.set_zorder(0)\n",
    "    vs = plt.axvspan(min(nhat*omega+1, 102), 102, alpha=0.1, color=badtoomany.hex, label=\"Not enough opportunities\")\n",
    "    vs.set_zorder(0)\n",
    "\n",
    "    \n",
    "def annotator(itera, *args, size=15, **kwargs):\n",
    "    plt.text(-0.05, 1.05, next(itera) + '.', transform=plt.gca().transAxes, \n",
    "            size=size, weight='bold')\n"
   ]
  },
  {
   "cell_type": "code",
   "execution_count": null,
   "metadata": {},
   "outputs": [],
   "source": [
    "import string\n",
    "g = sns.relplot(data=dfcond.query('nOpti == 2'), col=\"gNbOfPhysicalObjects\", x=\"maxPlayer\", y='truecoopmod' , kind=\"line\",\n",
    "                facet_kws={'ylim':(-0.5, 12.5), 'xlim':(0, 102), 'sharey': True, 'legend_out': True}, aspect=1.2, height=2.5)\n",
    "g.map_dataframe(sns.scatterplot, x=\"maxPlayer\", y=\"truecoopopti\")\n",
    "#g.map_dataframe(sns.scatterplot, x=\"maxPlayer\", y=\"truecoopmod\", color=\"green\")\n",
    "\n",
    "g.map_dataframe(plot_ess,  color=defectColor.hex, label=\"defect investment\")\n",
    "g.map_dataframe(plot_so,  color=coopColor.hex, label=\"social optimum investment\")\n",
    "g.map_dataframe(plot_span)\n",
    "g.set_titles(\"$\\omega = {col_name}$\")\n",
    "g.set(ylabel='Mean investment', xlabel=\"Number of agents in the environment\")\n",
    "g.map(annotator, itera=iter(string.ascii_lowercase))\n",
    "\n",
    "#g.set_xlabel('Number of agents in the environment')\n",
    "g.add_legend()\n",
    "g.savefig('out/varNrowOpp.pdf')\n",
    "plt.show()"
   ]
  },
  {
   "cell_type": "code",
   "execution_count": null,
   "metadata": {},
   "outputs": [],
   "source": [
    "g = sns.relplot(data=dfcond, col=\"gNbOfPhysicalObjects\", row=\"nOpti\", x=\"maxPlayer\", y='truecoopmod' , kind=\"line\",\n",
    "                facet_kws={'ylim':(-0.5, 12.5), 'xlim': (0, 102)}, aspect=1.2, height=2.5)\n",
    "\n",
    "#g.map_dataframe(sns.scatterplot, color=\"green\", x=\"maxPlayer\", y=\"truecoopmod\")\n",
    "g.map_dataframe(sns.scatterplot, x=\"maxPlayer\", y=\"truecoopopti\")\n",
    "g.map_dataframe(plot_ess, color=defectColor.hex, label=\"Defect ESS\")\n",
    "g.map_dataframe(plot_so, color=coopColor.hex, label=\"Social optimum ESS\")\n",
    "g.map_dataframe(plot_span)\n",
    "g.map(annotator, itera=iter(string.ascii_lowercase))\n",
    "\n",
    "g.set_titles('$\\hat{{n}} = {row_name}$ | $\\omega = {col_name}$')\n",
    "g.set(ylabel='Mean investment', xlabel=\"Number of agents in the environment\")\n",
    "g.add_legend()\n",
    "g.savefig('out/grid.pdf')\n"
   ]
  },
  {
   "cell_type": "code",
   "execution_count": null,
   "metadata": {},
   "outputs": [],
   "source": [
    "dfful.head()"
   ]
  },
  {
   "cell_type": "code",
   "execution_count": null,
   "metadata": {},
   "outputs": [],
   "source": [
    "# AJOUTER EXPÉRIENCE CONTRÔLE SANS VISION"
   ]
  },
  {
   "cell_type": "code",
   "execution_count": null,
   "metadata": {},
   "outputs": [],
   "source": [
    "plt.figure(figsize=(5, 3))\n",
    "dfobjvar=dfful.query('maxPlayer == 100 and nOpti == 2')\n",
    "plt.axvspan(0, 50, color=badtoomany.hex, alpha=0.1, label=\"Not enough opportunities\")\n",
    "plt.axvspan(50, 102, color=good.hex, alpha=0.1, label=\"Enough opportunities\")\n",
    "sns.lineplot(data=dfobjvar, x='gNbOfPhysicalObjects', y='truecoopopti')\n",
    "sns.scatterplot(data=dfobjvar, x='gNbOfPhysicalObjects', y='truecoopopti')\n",
    "sns.despine()\n",
    "plt.ylim(-0.1, 14)\n",
    "plt.xlim(0, 102)\n",
    "plot_so(dfobjvar, color=coopColor.hex, label=\"Social optimal investment\")\n",
    "plot_ess(dfobjvar, color=defectColor.hex, label=\"Defector investment\")\n",
    "plt.legend()\n",
    "plt.xlabel('Number of cooperation opportunities $\\omega$')\n",
    "plt.ylabel('Mean investment for $\\hat{n}$')\n",
    "plt.tight_layout()\n",
    "plt.savefig('out/varopp.pdf')"
   ]
  },
  {
   "cell_type": "code",
   "execution_count": null,
   "metadata": {},
   "outputs": [],
   "source": []
  },
  {
   "cell_type": "code",
   "execution_count": null,
   "metadata": {},
   "outputs": [],
   "source": []
  }
 ],
 "metadata": {
  "kernelspec": {
   "display_name": "Python 3",
   "language": "python",
   "name": "python3"
  },
  "language_info": {
   "codemirror_mode": {
    "name": "ipython",
    "version": 3
   },
   "file_extension": ".py",
   "mimetype": "text/x-python",
   "name": "python",
   "nbconvert_exporter": "python",
   "pygments_lexer": "ipython3",
   "version": "3.7.4"
  }
 },
 "nbformat": 4,
 "nbformat_minor": 4
}
