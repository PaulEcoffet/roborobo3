{
 "cells": [
  {
   "cell_type": "code",
   "execution_count": null,
   "metadata": {},
   "outputs": [],
   "source": [
    "import pandas as pd\n",
    "import json_tricks as json\n",
    "import numpy as np\n",
    "import seaborn as sns\n",
    "import matplotlib.pyplot as plt"
   ]
  },
  {
   "cell_type": "code",
   "execution_count": null,
   "metadata": {},
   "outputs": [],
   "source": [
    "#logall = pd.read_csv('/home/ecoffet/robocoop/logs/lionscross10-procbtest/lions-tol0.7-pop100-fake_true-fakecoef_1-b10-/lion_megabig/opti2/a100/o10/run_01/rep00/logall_1499.txt.gz', delimiter=\"\\t\")\n",
    "df = pd.read_csv('/home/ecoffet/robocoop/logs/lionscross10-procbtest/lions-tol0.7-pop100-fake_true-fakecoef_1-b10-/lion_megabig/opti2/a100/o10/run_01/rep00/analysis_log_1499.txt.gz', delimiter=\"\\t\")\n",
    "coop = pd.read_csv('/home/ecoffet/robocoop/logs/lionscross10-procbtest/lions-tol0.7-pop100-fake_true-fakecoef_1-b10-/lion_megabig/opti2/a100/o10/run_01/rep00/coop_1499.txt.gz', delimiter=\"\\t\")\n",
    "df.head()\n",
    "df['rank'] = df.groupby('ind')['score'].rank()"
   ]
  },
  {
   "cell_type": "code",
   "execution_count": null,
   "metadata": {},
   "outputs": [],
   "source": [
    "df.head()"
   ]
  },
  {
   "cell_type": "code",
   "execution_count": null,
   "metadata": {},
   "outputs": [],
   "source": [
    "sns.lineplot(x='nbOnOpp', y='curCoopNoCoef', data=logall.query('iter < 100 and id == 3'), estimator=np.median)"
   ]
  },
  {
   "cell_type": "code",
   "execution_count": null,
   "metadata": {},
   "outputs": [],
   "source": [
    "fig, ax = plt.subplots(1, 1)\n",
    "sns.heatmap(df.query('cost == 0 and nbopp == 1 and ind == 3').pivot_table('rank', 'othercoop', 'owncoop'), cmap=sns.cm.rocket_r, ax=ax)\n",
    "ax.invert_yaxis()"
   ]
  },
  {
   "cell_type": "code",
   "execution_count": null,
   "metadata": {},
   "outputs": [],
   "source": [
    "np.round(logall.query('iter < 100 and id == 3 and nbOnOpp == 2')['curCoopNoCoef'].iloc[0] + logall.query('iter < 100 and id == 3 and nbOnOpp == 2')['fakeCoef'].iloc[0])"
   ]
  },
  {
   "cell_type": "code",
   "execution_count": null,
   "metadata": {},
   "outputs": [],
   "source": [
    "df"
   ]
  },
  {
   "cell_type": "code",
   "execution_count": null,
   "metadata": {},
   "outputs": [],
   "source": [
    "roughinv = np.round((logall.query(f'nbOnOpp == 2').groupby('id')['curCoopNoCoef'].apply(lambda x: x.iloc[0])\n",
    "         + logall.query(f'nbOnOpp == 2').groupby('id')['fakeCoef'].apply(lambda x: x.iloc[0])) * 2)/2\n",
    "logall['roughinv'] = np.round(2 * (logall['curCoopNoCoef'] + logall['fakeCoef'] - 1)) / 2\n",
    "roughinv = pd.DataFrame(roughinv, columns=['roughinv'])\n",
    "roughinv"
   ]
  },
  {
   "cell_type": "code",
   "execution_count": null,
   "metadata": {},
   "outputs": [],
   "source": [
    "jdf = df.join(roughinv, on='ind', rsuffix='_inv')\n",
    "jdf"
   ]
  },
  {
   "cell_type": "code",
   "execution_count": null,
   "metadata": {},
   "outputs": [],
   "source": [
    "sns.lineplot(data=jdf.query(f'cost == 0 and nbopp == 1 and owncoop == roughinv'), x='othercoop', y='rank')"
   ]
  },
  {
   "cell_type": "code",
   "execution_count": null,
   "metadata": {},
   "outputs": [],
   "source": [
    "jdf[['ind', 'ind_inv']]"
   ]
  },
  {
   "cell_type": "code",
   "execution_count": null,
   "metadata": {},
   "outputs": [],
   "source": [
    "roughinv"
   ]
  },
  {
   "cell_type": "code",
   "execution_count": null,
   "metadata": {},
   "outputs": [],
   "source": []
  }
 ],
 "metadata": {
  "kernelspec": {
   "display_name": "Python 3",
   "language": "python",
   "name": "python3"
  },
  "language_info": {
   "codemirror_mode": {
    "name": "ipython",
    "version": 3
   },
   "file_extension": ".py",
   "mimetype": "text/x-python",
   "name": "python",
   "nbconvert_exporter": "python",
   "pygments_lexer": "ipython3",
   "version": "3.7.4"
  }
 },
 "nbformat": 4,
 "nbformat_minor": 4
}
