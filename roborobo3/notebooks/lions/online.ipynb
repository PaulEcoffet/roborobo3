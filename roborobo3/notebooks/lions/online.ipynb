{
 "cells": [
  {
   "cell_type": "code",
   "execution_count": 1,
   "metadata": {},
   "outputs": [],
   "source": [
    "import pandas as pd\n",
    "import matplotlib.pyplot as plt\n",
    "import numpy as np\n",
    "import seaborn as sns\n",
    "import glob\n",
    "import scipy.stats\n",
    "from IPython.display import Video, display, HTML\n",
    "sns.set()\n",
    "\n",
    "def read_csvx(path, *args, **kwargs):\n",
    "    try:\n",
    "        return pd.read_csv(str(path) +'.gz', *args, **kwargs)\n",
    "    except Exception as e:\n",
    "        return pd.read_csv(str(path), *args, **kwargs)\n",
    "\n",
    "def followorbit(vals, path):\n",
    "    out = []\n",
    "    for n in range(100):\n",
    "        closest05 = np.clip(round(path[n] * 2) / 2, 0, 10)\n",
    "        rank = vals.query(f'nbopp == {n} and othercoop == {closest05}')['rank'].values[0]\n",
    "        out.append(rank)\n",
    "    return np.array(out)\n",
    "\n",
    "import re\n",
    "def gethighest(vals):\n",
    "        m = np.argmax([int(re.search('(\\d+)', val).group(1)) for val in vals])\n",
    "        return vals[m]"
   ]
  },
  {
   "cell_type": "code",
   "execution_count": null,
   "metadata": {},
   "outputs": [
    {
     "data": {
      "text/html": [
       "<h3>/home/pecoffet/remoterobo/logs/lions-nocost-2019-05-15-1759/lion/o10/f0.2/run_01/rep00/</h3>"
      ],
      "text/plain": [
       "<IPython.core.display.HTML object>"
      ]
     },
     "metadata": {},
     "output_type": "display_data"
    }
   ],
   "source": [
    "dofolloworbit = True\n",
    "for path in sorted(glob.glob(\"/home/pecoffet/remoterobo/logs/lions-nocost-2019-05-15-1759/lion/**/rep00/\", recursive=True)):\n",
    "    display(HTML(f'<h3>{path}</h3>'))\n",
    "    fit = read_csvx(path + \"fitnesslog.txt\", delimiter=\"\\t\")\n",
    "    fit = fit.groupby(['gen', 'ind'], as_index=False).sum()\n",
    "    plt.figure()\n",
    "    sns.lineplot(y='fitness', x='gen', data=fit, ci=None, estimator='median')\n",
    "    sns.lineplot(y='fitness', x='gen', data=fit, ci=None, estimator='max')\n",
    "    #sns.lineplot(y='fitness', x='gen', data=fit, ci=None, estimator='min')\n",
    "    plt.show()\n",
    "    logall = read_csvx(gethighest(glob.glob(path + 'logall*')), delimiter=\"\\t\")\n",
    "    logall['oppId'] = logall['oppId'].astype('category')\n",
    "    a = logall.query('id == 0 and eval == 0').pivot_table('id', 'iter', 'oppId', aggfunc='count', fill_value=0)\n",
    "    for oppval in logall['oppId'].unique():\n",
    "        if not a[oppval]:\n",
    "            a[oppval] = 0\n",
    "    # end of trick \n",
    "    plt.figure(figsize=(5, 20))\n",
    "    sns.heatmap(a)\n",
    "    plt.show()"
   ]
  },
  {
   "cell_type": "code",
   "execution_count": 21,
   "metadata": {},
   "outputs": [
    {
     "data": {
      "text/plain": [
       "FrozenList(['iter'])"
      ]
     },
     "execution_count": 21,
     "metadata": {},
     "output_type": "execute_result"
    }
   ],
   "source": []
  },
  {
   "cell_type": "code",
   "execution_count": null,
   "metadata": {},
   "outputs": [],
   "source": []
  }
 ],
 "metadata": {
  "kernelspec": {
   "display_name": "Python 3",
   "language": "python",
   "name": "python3"
  },
  "language_info": {
   "codemirror_mode": {
    "name": "ipython",
    "version": 3
   },
   "file_extension": ".py",
   "mimetype": "text/x-python",
   "name": "python",
   "nbconvert_exporter": "python",
   "pygments_lexer": "ipython3",
   "version": "3.6.7"
  }
 },
 "nbformat": 4,
 "nbformat_minor": 2
}
