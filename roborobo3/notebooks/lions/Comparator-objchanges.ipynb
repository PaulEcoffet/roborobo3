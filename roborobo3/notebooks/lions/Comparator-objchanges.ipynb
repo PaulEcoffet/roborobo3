{
 "cells": [
  {
   "cell_type": "code",
   "execution_count": null,
   "metadata": {},
   "outputs": [],
   "source": [
    "import pandas as pd\n",
    "import matplotlib.pyplot as plt\n",
    "import numpy as np\n",
    "import seaborn as sns\n",
    "import glob\n",
    "import scipy.stats\n",
    "from IPython.display import Video, display, HTML\n",
    "import re\n",
    "\n",
    "sns.set()\n",
    "\n",
    "\n",
    "def gethighest(vals, prefix=\"logall_\"):\n",
    "        m = np.argmax([int(re.search(f'{prefix}(\\d+)', val).group(1)) for val in vals])\n",
    "        return vals[m]\n",
    "\n",
    "def read_csvx(path, *args, **kwargs):\n",
    "    try:\n",
    "        return pd.read_csv(str(path) +'.gz', *args, **kwargs)\n",
    "    except Exception as e:\n",
    "        return pd.read_csv(str(path), *args, **kwargs)\n",
    "\n",
    "        \n",
    "def readparams(file):\n",
    "    params = {} \n",
    "    with open(file) as f:\n",
    "        for line in f:\n",
    "            line = line[:-1]  # remove \\n\n",
    "            if not line or line.startswith('#') or line.startswith('import'):\n",
    "                continue\n",
    "            key, val = line.split('=')\n",
    "            if val.lower() == 'true' or val.lower() == 'false':\n",
    "                params[key] = val.lower() == 'true'\n",
    "            else:\n",
    "                try:\n",
    "                    params[key] = float(val)\n",
    "                except ValueError:\n",
    "                    params[key] = val\n",
    "    return params"
   ]
  },
  {
   "cell_type": "code",
   "execution_count": null,
   "metadata": {},
   "outputs": [],
   "source": [
    "from IPython.display import HTML, display\n",
    "from ipywidgets import widgets\n",
    "a = widgets.Text()\n",
    "import uuid\n",
    "classname='user-agent-content'+str(uuid.uuid4())\n",
    "a.add_class(classname)\n",
    "a"
   ]
  },
  {
   "cell_type": "code",
   "execution_count": null,
   "metadata": {},
   "outputs": [],
   "source": [
    "HTML(\"\"\"\n",
    "<script>\n",
    "'use strict';\n",
    "// Get the element\n",
    "var inp = document.getElementsByClassName(\n",
    "     '\"\"\" + str(classname) + \"\"\"')[0].getElementsByTagName('input')[0];\n",
    "\n",
    "// Set the UA\n",
    "inp.value = window.navigator.userAgent;\n",
    "\n",
    "// Trigger change for Jupyter lab kernel\n",
    "var evt = new Event('change', {\"bubbles\":true, \"cancelable\":false});\n",
    "inp.dispatchEvent(evt);\n",
    "</script>\n",
    "User Agent set\n",
    "\"\"\")"
   ]
  },
  {
   "cell_type": "code",
   "execution_count": null,
   "metadata": {},
   "outputs": [],
   "source": [
    "if 'Mac OS' in a.value :\n",
    "    %config InlineBackend.figure_format = 'retina'\n",
    "    print('retina set')\n"
   ]
  },
  {
   "cell_type": "code",
   "execution_count": null,
   "metadata": {},
   "outputs": [],
   "source": [
    "import tqdm\n",
    "params = []\n",
    "prefix = '/home/pecoffet/remoterobo'\n",
    "prefix = '/home/ecoffet/robocoop'\n",
    "\n",
    "gen = 1489\n",
    "runname = 'lionscross9-varobj'\n"
   ]
  },
  {
   "cell_type": "code",
   "execution_count": null,
   "metadata": {},
   "outputs": [],
   "source": [
    "\n",
    "paths = sorted([]\n",
    "                  + glob.glob(f\"{prefix}/logs/{runname}/**/rep00/\", recursive=True)\n",
    "                  )\n",
    "#paths = sorted(glob.glob(f\"{prefix}/logs/lions-nvar-*-2019-06-*/**/rep00/\", recursive=True))\n",
    "for path in tqdm.tqdm_notebook(paths):\n",
    "    try:\n",
    "        logall = read_csvx(path+f\"/logall_{gen}.txt\", delimiter=\"\\t\")\n",
    "    except FileNotFoundError:\n",
    "        print('not finished yet for', path)\n",
    "        continue\n",
    "\n",
    "    # Get Fitness\n",
    "    fitness = read_csvx(path + \"/../fit.txt\", delimiter=\"\\t\", names=['gen', 'min', 'q1', 'med', 'q3', 'max'])\n",
    "    medfit = fitness.query(f\"gen == {gen}\")['med'].median()\n",
    "    #meanfit = fitness.query(f\"gen == {gen}\")['fitness'].mean()\n",
    "    curparam = readparams(glob.glob(path + 'properties*')[0])\n",
    "    \n",
    "    coopopti = logall.query(f'nbOnOpp == {curparam[\"nOpti\"]}').groupby('id', as_index=False)['curCoopNoCoef'].mean()['curCoopNoCoef'].mean()\n",
    "    nmod = logall['nbOnOpp'].mode()[0]\n",
    "    if np.isnan(coopopti):  # WARNING, bold choice !\n",
    "        coopopti = 0\n",
    "    coopmod =  logall.query(f'nbOnOpp == {nmod}').groupby('id', as_index=False)['curCoopNoCoef'].mean()['curCoopNoCoef'].mean()\n",
    "    params.append({'path':path, 'params':curparam, 'coopopti': coopopti, 'coopmod': coopmod, 'nmod': nmod, 'medfit': medfit, 'meanfit': medfit})\n",
    "\n"
   ]
  },
  {
   "cell_type": "code",
   "execution_count": null,
   "metadata": {},
   "outputs": [],
   "source": []
  },
  {
   "cell_type": "code",
   "execution_count": null,
   "metadata": {},
   "outputs": [],
   "source": [
    "diffkeys = set()\n",
    "missingkeys = set()\n",
    "for i in tqdm.tqdm_notebook(range(len(params))):\n",
    "    for key in params[i]['params'].keys():\n",
    "        try:\n",
    "            if any(params[j]['params'][key] != params[i]['params'][key] for j in range(0, len(params) - 1)):\n",
    "                diffkeys.add(key)\n",
    "        except KeyError:\n",
    "            missingkeys.add(key)"
   ]
  },
  {
   "cell_type": "code",
   "execution_count": null,
   "metadata": {},
   "outputs": [],
   "source": [
    "excluded = ['gSeed', 'gLogFilename', 'path']\n",
    "processed = []\n",
    "for elem in params:\n",
    "    param = elem['params']\n",
    "    ess = param['meanA'] / param['nOpti']\n",
    "    so = param['meanA'] + param['b'] * (param['nOpti'] - 1) / param['nOpti']\n",
    "    outdict = {'coopopti': (elem['coopopti'] - ess) / (so - ess) , 'truecoopopti': elem['coopopti'],\n",
    "               'coopmod': (elem['coopmod'] - ess) / (so - ess) , 'truecoopmod': elem['coopmod'], 'nmod': elem['nmod'], 'medfit': elem['medfit'],\n",
    "               'meanfit': elem['meanfit']}\n",
    "    for key in diffkeys:\n",
    "        if key in excluded: continue\n",
    "        outdict[key] = elem['params'][key]\n",
    "    processed.append(outdict)\n",
    "    for key in missingkeys:\n",
    "        if key in excluded: continue\n",
    "        outdict[key] = elem['params'].get(key, False)\n",
    "df = pd.DataFrame(processed)\n",
    "print(missingkeys)\n",
    "df.to_pickle(f'all_file_loaded_{runname}.pkl.gz')"
   ]
  },
  {
   "cell_type": "code",
   "execution_count": null,
   "metadata": {},
   "outputs": [],
   "source": [
    "print(f'all_file_loaded_{runname}.pkl.gz')\n",
    "df = pd.read_pickle(f'all_file_loaded_{runname}.pkl.gz')\n",
    "normalized_df=(df-df.mean())/df.std()"
   ]
  },
  {
   "cell_type": "code",
   "execution_count": null,
   "metadata": {},
   "outputs": [],
   "source": [
    "df.head()"
   ]
  },
  {
   "cell_type": "code",
   "execution_count": null,
   "metadata": {},
   "outputs": [],
   "source": [
    "nopti = 2\n",
    "ntol = 0.2\n",
    "condrec = f'nOpti == {nopti}'\n",
    "curcond = df.query(condrec)\n",
    "vi='gNbOfPhysicalObjects'\n",
    "vilab='Nombre d\\'opportunités dans l\\'environnement'\n",
    "fig, gax = plt.subplots(2, 1, figsize=(6, 3*2))\n",
    "axs = gax\n",
    "st = fig.suptitle(\"Avec 20 opportunités, après 1500 générations\")\n",
    "curplot = 0\n",
    "sns.scatterplot(x=vi, y='coopopti', data=curcond, ax=axs[curplot], alpha=0.7)\n",
    "sns.lineplot(x=vi, y='coopopti', data=curcond, ax=axs[curplot])\n",
    "axs[curplot].set_ylabel('Coop moyenne des agents')\n",
    "axs[curplot].set_xlabel(vilab)\n",
    "axs[curplot].axhline(0, label='defect', c='r')\n",
    "axs[curplot].axhline(1, label='SO', c='b')\n",
    "axs[curplot].legend()\n",
    "\n",
    "curplot += 1\n",
    "\n",
    "if False:\n",
    "    sns.regplot(x=vi, y='nmod', data=curcond, ax=axs[curplot])\n",
    "    axs[curplot].set_ylabel('Mode du nombre d\\'agent par opp')\n",
    "    axs[curplot].set_xlabel(vilab)\n",
    "    #axs[curplot].set_ylim(0, 10)\n",
    "    axs[curplot].axhline(nopti, label='nopti', c='b')\n",
    "    axs[curplot].legend()\n",
    "    curplot += 1\n",
    "\n",
    "sns.scatterplot(x=vi, y='medfit', data=curcond, ax=axs[curplot], alpha=0.7)\n",
    "sns.lineplot(x=vi, y='meanfit', data=curcond, ax=axs[curplot])\n",
    "axs[curplot].set_ylabel('Fitness moyenne des agents')\n",
    "axs[curplot].set_xlabel(vilab)\n",
    "fig.tight_layout()\n",
    "st.set_y(0.95)\n",
    "fig.subplots_adjust(top=0.90)\n",
    "plt.show(fig);\n"
   ]
  },
  {
   "cell_type": "code",
   "execution_count": null,
   "metadata": {},
   "outputs": [],
   "source": [
    "import statsmodels.formula.api as sm\n",
    "sns.regplot(x='nOpti', y='truecoopopti', data=df)\n",
    "sm.ols(formula='truecoopopti ~ nOpti', data=df).fit().summary()"
   ]
  },
  {
   "cell_type": "code",
   "execution_count": null,
   "metadata": {},
   "outputs": [],
   "source": [
    "sns.regplot(x='nOpti', y='medfit', data=df)\n",
    "sm.ols(formula='medfit ~ nOpti', data=df).fit().summary()"
   ]
  },
  {
   "cell_type": "code",
   "execution_count": null,
   "metadata": {},
   "outputs": [],
   "source": [
    "#normalized_df['nbRobots'] = normalized_df['gInitialNumberOfRobots']\n",
    "normalized_df['nbObj'] = normalized_df['gNbOfPhysicalObjects']"
   ]
  },
  {
   "cell_type": "code",
   "execution_count": null,
   "metadata": {},
   "outputs": [],
   "source": [
    "result = sm.ols(formula=\"truecoopopti ~ nbObj + nOpti\", data=normalized_df).fit()\n",
    "result.summary()"
   ]
  },
  {
   "cell_type": "code",
   "execution_count": null,
   "metadata": {},
   "outputs": [],
   "source": [
    "result = sm.ols(formula=\"medfit ~ nbObj + nOpti\", data=normalized_df).fit()\n",
    "result.summary()"
   ]
  },
  {
   "cell_type": "code",
   "execution_count": null,
   "metadata": {},
   "outputs": [],
   "source": [
    "\n",
    "def bellcurve(x, mu, sigma):\n",
    "    return  1.0 / np.sqrt(2 * np.pi) * 1.0 / sigma * np.exp(- ((x - mu) * (x - mu)) / (2 * sigma * sigma))\n",
    "\n",
    "def alonepayoff(x):\n",
    "    a = 5\n",
    "    b = 10\n",
    "    return a * x - 0.5 * x**2\n",
    "\n",
    "def alonepayoffbellcurve(mu, sigma):\n",
    "    a = 5\n",
    "    b = 10\n",
    "    x = np.linspace(0, 10, 1000)\n",
    "    xs, mus = np.meshgrid(x, mu)\n",
    "    xs, sigmas = np.meshgrid(x, sigma)\n",
    "    truemax = np.max((a * xs) * bellcurve(1, mus, sigmas) / bellcurve(1, 1, sigmas)  - 0.5 * xs**2, axis=1)\n",
    "    return truemax.flatten()"
   ]
  },
  {
   "cell_type": "code",
   "execution_count": null,
   "metadata": {},
   "outputs": [],
   "source": [
    "alonepayoffbellcurve(2, 2)"
   ]
  },
  {
   "cell_type": "code",
   "execution_count": null,
   "metadata": {},
   "outputs": [],
   "source": [
    "ntol=0.7\n",
    "\n",
    "df['ratio'] = (df['gNbOfPhysicalObjects'] / 100)\n",
    "df['betteralone'] = alonepayoffbellcurve(df['nOpti'], ntol)\n",
    "df['difffit'] = (df['meanfit'] - df['betteralone'])\n",
    "\n",
    "fig, axs = plt.subplots(3, 1, figsize=(5, 12))\n",
    "st = fig.suptitle(f\"Tolerance={ntol}\", fontsize=14)\n",
    "\n",
    "condrec = f'gRandomSeed != -1'\n",
    "\n",
    "curcond = df.query(condrec)\n",
    "sns.heatmap(curcond.pivot_table('meanfit', 'nOpti', 'gNbOfPhysicalObjects'), cmap=sns.cm.rocket_r, ax=axs[0])\n",
    "axs[0].set_ylabel('Nombre optimal par opp')\n",
    "axs[0].set_xlabel('Nombre d\\'opportunités')\n",
    "axs[0].set_title('Fitness Moyenne')\n",
    "\n",
    "\n",
    "sns.heatmap(curcond.pivot_table('truecoopopti', 'nOpti', 'gNbOfPhysicalObjects'), cmap=sns.cm.rocket_r, vmin=0, vmax=10, ax=axs[1])\n",
    "axs[1].set_ylabel('Nombre optimal par opp')\n",
    "axs[1].set_xlabel('Nombre d\\'opportunités')\n",
    "axs[1].set_title('Coopération Moyenne')\n",
    "\n",
    "sns.heatmap(curcond.pivot_table('difffit', 'nOpti', 'gNbOfPhysicalObjects'), linewidth=0.01, cmap=sns.cm.rocket_r, ax=axs[2])\n",
    "axs[2].set_ylabel('Nombre optimal par opp')\n",
    "axs[2].set_xlabel('Nombre d\\'opportunités')\n",
    "axs[2].set_title('Différence entre fitness seule espérée et fitness moyenne')\n",
    "fig.tight_layout()\n",
    "\n",
    "# shift subplots down:\n",
    "st.set_y(0.95)\n",
    "fig.subplots_adjust(top=0.90)\n",
    "plt.show(fig)"
   ]
  },
  {
   "cell_type": "code",
   "execution_count": null,
   "metadata": {},
   "outputs": [],
   "source": [
    "df.query('nOpti == 2 and gNbOfPhysicalObjects == 10')"
   ]
  },
  {
   "cell_type": "code",
   "execution_count": null,
   "metadata": {},
   "outputs": [],
   "source": [
    "df.query('nOpti == 2 and gNbOfPhysicalObjects == 10')"
   ]
  },
  {
   "cell_type": "code",
   "execution_count": null,
   "metadata": {},
   "outputs": [],
   "source": [
    "sns.regplot(y='truecoopopti', x='oppDecay', data=df.query('nOpti == 2 and nTolerance == 0.2 and gNbOfPhysicalObjects == 60'))\n",
    "plt.ylabel('Coopération moyenne en fin de gen')\n",
    "plt.xlabel('Durée de vie moyenne des opportunités')"
   ]
  },
  {
   "cell_type": "code",
   "execution_count": null,
   "metadata": {},
   "outputs": [],
   "source": [
    "alonepayoffbellcurve(df['nOpti'], df['nTolerance'])"
   ]
  },
  {
   "cell_type": "code",
   "execution_count": null,
   "metadata": {},
   "outputs": [],
   "source": [
    "df.iloc[-1]"
   ]
  },
  {
   "cell_type": "code",
   "execution_count": null,
   "metadata": {},
   "outputs": [],
   "source": [
    "alonepayoffbellcurve(4, 2)"
   ]
  },
  {
   "cell_type": "code",
   "execution_count": null,
   "metadata": {},
   "outputs": [],
   "source": []
  }
 ],
 "metadata": {
  "kernelspec": {
   "display_name": "Python 3",
   "language": "python",
   "name": "python3"
  },
  "language_info": {
   "codemirror_mode": {
    "name": "ipython",
    "version": 3
   },
   "file_extension": ".py",
   "mimetype": "text/x-python",
   "name": "python",
   "nbconvert_exporter": "python",
   "pygments_lexer": "ipython3",
   "version": "3.7.3"
  }
 },
 "nbformat": 4,
 "nbformat_minor": 2
}
