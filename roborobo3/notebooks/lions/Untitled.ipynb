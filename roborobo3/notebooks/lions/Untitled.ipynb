{
 "cells": [
  {
   "cell_type": "code",
   "execution_count": null,
   "metadata": {},
   "outputs": [],
   "source": [
    "import pandas as pd\n",
    "import json_tricks as json\n",
    "import numpy as np\n",
    "import seaborn as sns\n",
    "import matplotlib.pyplot as plt"
   ]
  },
  {
   "cell_type": "code",
   "execution_count": null,
   "metadata": {},
   "outputs": [],
   "source": [
    "def nn(inputs, weights):\n",
    "    for w in weights:\n",
    "        inputs = np.concatenate((inputs, [1]))  # add bias\n",
    "        inputs = np.tanh(np.inner(inputs,w))  # and Neural it !\n",
    "    return inputs"
   ]
  },
  {
   "cell_type": "code",
   "execution_count": null,
   "metadata": {},
   "outputs": [],
   "source": [
    "def genome2weights(genome):\n",
    "    nbweightperlayer_choose = [4, 3, 1]\n",
    "    nbweightperlayer_coop = [1, 2, 1]\n",
    "    lw_choose = []\n",
    "    lw_coop = []\n",
    "    browsed = 0\n",
    "    for inn, outn in zip(nbweightperlayer_choose, nbweightperlayer_choose[1:]):\n",
    "        inn += 1\n",
    "        toeat = inn*outn\n",
    "        mat = np.array(genome[browsed:(browsed+toeat)])\n",
    "        mat = mat.reshape((outn, inn))\n",
    "        lw_choose.append(mat)\n",
    "        browsed += toeat\n",
    "    for inn, outn in zip(nbweightperlayer_coop, nbweightperlayer_coop[1:]):\n",
    "        inn += 1\n",
    "        toeat = inn*outn\n",
    "        mat = np.array(genome[browsed:(browsed+toeat)]).reshape((outn, inn))\n",
    "        lw_coop.append(mat)\n",
    "        browsed += toeat\n",
    "    assert(browsed == len(genome))\n",
    "    return lw_choose, lw_coop"
   ]
  },
  {
   "cell_type": "code",
   "execution_count": null,
   "metadata": {},
   "outputs": [],
   "source": [
    "gen = json.load(open('/data/log/lioncrashfric2.5b8logoften/rep00/genomes_99.txt'))[3]"
   ]
  },
  {
   "cell_type": "code",
   "execution_count": null,
   "metadata": {},
   "outputs": [],
   "source": [
    "choose, coop = genome2weights(gen)"
   ]
  },
  {
   "cell_type": "code",
   "execution_count": null,
   "metadata": {},
   "outputs": [],
   "source": [
    "inputs = np.array([1, 1/100, 6/10, 10/10])"
   ]
  },
  {
   "cell_type": "code",
   "execution_count": null,
   "metadata": {},
   "outputs": [],
   "source": [
    "nn(inputs, choose)"
   ]
  },
  {
   "cell_type": "code",
   "execution_count": null,
   "metadata": {},
   "outputs": [],
   "source": [
    "inputs = [3/100]\n",
    "(nn(inputs, coop)[0] + 1) / 2 * 10"
   ]
  },
  {
   "cell_type": "code",
   "execution_count": null,
   "metadata": {},
   "outputs": [],
   "source": [
    "out = []\n",
    "for nbpart in range(0, 11):\n",
    "    indcoop = (nn([nbpart/100], coop)[0] + 1) / 2 * 10\n",
    "    for coopperind in range(0, 11):\n",
    "        inputs = np.array([1, nbpart / 100, coopperind * nbpart / 10, indcoop / 10])\n",
    "        score = nn(inputs, choose)[0]\n",
    "        out.append({'nbpart': nbpart, 'x0': coopperind, 'score': score})"
   ]
  },
  {
   "cell_type": "code",
   "execution_count": null,
   "metadata": {},
   "outputs": [],
   "source": [
    "sns.heatmap(pd.DataFrame(out).pivot_table('score', 'nbpart', 'x0'))"
   ]
  },
  {
   "cell_type": "code",
   "execution_count": null,
   "metadata": {},
   "outputs": [],
   "source": [
    "out = []\n",
    "for nbpart in range(0, 11):\n",
    "    indcoop = (nn([nbpart/100], coop)[0] + 1) / 2 * 10\n",
    "    for coopperind in range(0, 11):\n",
    "        inputs = np.array([0, nbpart / 100, coopperind * nbpart / 10, indcoop / 10])\n",
    "        score = nn(inputs, choose)[0]\n",
    "        out.append({'nbpart': nbpart, 'x0': coopperind, 'score': score})\n",
    "sns.heatmap(pd.DataFrame(out).pivot_table('score', 'nbpart', 'x0'))"
   ]
  },
  {
   "cell_type": "code",
   "execution_count": null,
   "metadata": {},
   "outputs": [],
   "source": []
  }
 ],
 "metadata": {
  "kernelspec": {
   "display_name": "Python 3",
   "language": "python",
   "name": "python3"
  },
  "language_info": {
   "codemirror_mode": {
    "name": "ipython",
    "version": 3
   },
   "file_extension": ".py",
   "mimetype": "text/x-python",
   "name": "python",
   "nbconvert_exporter": "python",
   "pygments_lexer": "ipython3",
   "version": "3.7.4"
  }
 },
 "nbformat": 4,
 "nbformat_minor": 4
}
