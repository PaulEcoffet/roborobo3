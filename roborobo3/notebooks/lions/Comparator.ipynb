{
 "cells": [
  {
   "cell_type": "code",
   "execution_count": null,
   "metadata": {},
   "outputs": [],
   "source": [
    "import pandas as pd\n",
    "import matplotlib.pyplot as plt\n",
    "import numpy as np\n",
    "import seaborn as sns\n",
    "import glob\n",
    "import scipy.stats\n",
    "from IPython.display import Video, display, HTML\n",
    "import re\n",
    "\n",
    "sns.set()\n",
    "\n",
    "\n",
    "def gethighest(vals, prefix=\"logall_\"):\n",
    "        m = np.argmax([int(re.search(f'{prefix}(\\d+)', val).group(1)) for val in vals])\n",
    "        return vals[m]\n",
    "\n",
    "def read_csvx(path, *args, **kwargs):\n",
    "    try:\n",
    "        return pd.read_csv(str(path) +'.gz', *args, **kwargs)\n",
    "    except Exception as e:\n",
    "        return pd.read_csv(str(path), *args, **kwargs)\n",
    "\n",
    "        \n",
    "def readparams(file):\n",
    "    params = {} \n",
    "    with open(file) as f:\n",
    "        for line in f:\n",
    "            line = line[:-1]  # remove \\n\n",
    "            if not line or line.startswith('#') or line.startswith('import'):\n",
    "                continue\n",
    "            key, val = line.split('=')\n",
    "            if val.lower() == 'true' or val.lower() == 'false':\n",
    "                params[key] = val.lower() == 'true'\n",
    "            else:\n",
    "                try:\n",
    "                    params[key] = float(val)\n",
    "                except ValueError:\n",
    "                    params[key] = val\n",
    "    return params"
   ]
  },
  {
   "cell_type": "code",
   "execution_count": null,
   "metadata": {},
   "outputs": [],
   "source": [
    "import tqdm\n",
    "params = []\n",
    "prefix = '/home/pecoffet/remoterobo'\n",
    "prefix = '/home/ecoffet/robocoop'\n",
    "gen = 499\n",
    "\n",
    "paths = sorted([]\n",
    "                  + glob.glob(f\"{prefix}/logs/lionscross2/*/*/*/*/*/rep00/\", recursive=True)\n",
    "                  )\n",
    "#paths = sorted(glob.glob(f\"{prefix}/logs/lions-nvar-*-2019-06-*/**/rep00/\", recursive=True))\n",
    "for path in tqdm.tqdm_notebook(paths):\n",
    "    if 'i50000' in path or 'i10000' in path:\n",
    "        continue\n",
    "    #print(path)\n",
    "    try:\n",
    "        #print(path)\n",
    "        logall = read_csvx(path+f\"/logall_{gen}.txt\", delimiter=\"\\t\")\n",
    "    except Exception as e:\n",
    "        print(e)\n",
    "        continue\n",
    "    # Get Fitness\n",
    "    fitness = read_csvx(path + '/fitnesslog.txt', delimiter=\"\\t\", )\n",
    "    medfit = fitness.query(f\"gen == {gen}\")['fitness'].median()\n",
    "    meanfit = fitness.query(f\"gen == {gen}\")['fitness'].mean()\n",
    "    curparam = readparams(glob.glob(path + 'properties*')[0])\n",
    "    \n",
    "    ### TODO\n",
    "    ### Faire la moyenne par agent et pas par jeu !\n",
    "    ### TODO\n",
    "    logall.query(f'nbOnOpp == {curparam[\"nOpti\"]}').groupby('ind')[\"curCoopNoCoef\"].mean()\n",
    "    nmod = logall['nbOnOpp'].mode()[0]\n",
    "    coopopti = np.nanmean(logall.query(f\"nbOnOpp == {curparam['nOpti']}\")[\"curCoopNoCoef\"])\n",
    "    if np.isnan(coopopti):  # WARNING, bold choice !\n",
    "        coopopti = 0\n",
    "    coopmod =  np.nanmean(logall.query(f'nbOnOpp == {nmod}')[\"curCoopNoCoef\"].mean())\n",
    "    params.append({'path':path, 'params':curparam, 'coopopti': coopopti, 'coopmod': coopmod, 'nmod': nmod, 'medfit': medfit, 'meanfit': meanfit})\n",
    "\n"
   ]
  },
  {
   "cell_type": "code",
   "execution_count": null,
   "metadata": {},
   "outputs": [],
   "source": [
    "diffkeys = set()\n",
    "missingkeys = set()\n",
    "for i in tqdm.tqdm_notebook(range(len(params))):\n",
    "    for key in params[i]['params'].keys():\n",
    "        try:\n",
    "            if any(params[j]['params'][key] != params[i]['params'][key] for j in range(0, len(params) - 1)):\n",
    "                diffkeys.add(key)\n",
    "        except KeyError:\n",
    "            missingkeys.add(key)"
   ]
  },
  {
   "cell_type": "code",
   "execution_count": null,
   "metadata": {},
   "outputs": [],
   "source": [
    "excluded = ['gSeed', 'gLogFilename', 'path']\n",
    "processed = []\n",
    "for elem in params:\n",
    "    param = elem['params']\n",
    "    ess = param['meanA'] / param['nOpti']\n",
    "    so = param['meanA'] + param['b'] * (param['nOpti'] - 1) / param['nOpti']\n",
    "    outdict = {'coopopti': (elem['coopopti'] - ess) / (so - ess) , 'truecoopopti': elem['coopopti'],\n",
    "               'coopmod': (elem['coopmod'] - ess) / (so - ess) , 'truecoopmod': elem['coopmod'], 'nmod': elem['nmod'], 'medfit': elem['medfit'],\n",
    "               'meanfit': elem['meanfit']}\n",
    "    for key in diffkeys:\n",
    "        if key in excluded: continue\n",
    "        outdict[key] = elem['params'][key]\n",
    "    processed.append(outdict)\n",
    "    for key in missingkeys:\n",
    "        if key in excluded: continue\n",
    "        outdict[key] = elem['params'].get(key, False)\n",
    "df = pd.DataFrame(processed)\n",
    "normalized_df=(df-df.mean())/df.std()\n",
    "print(missingkeys)"
   ]
  },
  {
   "cell_type": "code",
   "execution_count": null,
   "metadata": {},
   "outputs": [],
   "source": [
    "df"
   ]
  },
  {
   "cell_type": "code",
   "execution_count": null,
   "metadata": {},
   "outputs": [],
   "source": [
    "df.to_pickle('all_file_loaded.pkl.gz')"
   ]
  },
  {
   "cell_type": "code",
   "execution_count": null,
   "metadata": {},
   "outputs": [],
   "source": [
    "nopti = 20\n",
    "ntol = 1\n",
    "curcond = df.query(f'nOpti == {nopti} and nTolerance == {ntol} and evaluationTime == 1000')\n",
    "fig, gax = plt.subplots(3, 1, figsize=(6, 9))\n",
    "axs = gax\n",
    "st = fig.suptitle(f'nOpti == {nopti} and nTolerance == {ntol} and evaluationTime == 1000')\n",
    "sns.regplot(x='gNbOfPhysicalObjects', y='truecoopopti', data=curcond, ax=axs[0])\n",
    "axs[0].set_ylabel('Coop moyenne des agents')\n",
    "axs[0].set_xlabel('Nombre d\\'objet')\n",
    "axs[0].axhline(5/nopti, label='defect', c='r')\n",
    "axs[0].axhline(5+10*(nopti-1)/nopti, label='SO', c='b')\n",
    "axs[0].legend()\n",
    "\n",
    "sns.regplot(x='gNbOfPhysicalObjects', y='nmod', data=curcond, ax=axs[1])\n",
    "axs[1].set_ylabel('Mode du nombre d\\'agent par opp')\n",
    "axs[1].set_xlabel('Nombre d\\'objet')\n",
    "axs[1].axhline(nopti, label='nopti', c='b')\n",
    "axs[1].legend()\n",
    "\n",
    "sns.regplot(x='gNbOfPhysicalObjects', y='medfit', data=curcond, ax=axs[2])\n",
    "axs[2].set_ylabel('Fitness moyenne des agents')\n",
    "axs[2].set_xlabel('Nombre d\\'objet')\n",
    "fig.tight_layout()\n",
    "st.set_y(0.95)\n",
    "fig.subplots_adjust(top=0.90)\n",
    "plt.show(fig);\n"
   ]
  },
  {
   "cell_type": "code",
   "execution_count": null,
   "metadata": {},
   "outputs": [],
   "source": [
    "import statsmodels.formula.api as sm\n",
    "sns.regplot(x='nOpti', y='truecoopopti', data=df.query(f' nTolerance == 0.2 and gNbOfPhysicalObjects > 60'))\n",
    "sm.ols(formula='truecoopopti ~ nOpti', data=df.query(f'nTolerance == 0.2 and gNbOfPhysicalObjects > 60')).fit().summary()"
   ]
  },
  {
   "cell_type": "code",
   "execution_count": null,
   "metadata": {},
   "outputs": [],
   "source": [
    "sns.regplot(x='nOpti', y='medfit', data=df.query(f'nTolerance == 0.2 and gNbOfPhysicalObjects > 60'))\n",
    "sm.ols(formula='medfit ~ nOpti', data=df.query(f'nTolerance == 0.2 and gNbOfPhysicalObjects > 60')).fit().summary()"
   ]
  },
  {
   "cell_type": "code",
   "execution_count": null,
   "metadata": {},
   "outputs": [],
   "source": []
  },
  {
   "cell_type": "code",
   "execution_count": null,
   "metadata": {},
   "outputs": [],
   "source": [
    "#normalized_df['nbRobots'] = normalized_df['gInitialNumberOfRobots']\n",
    "normalized_df['nbObj'] = normalized_df['gNbOfPhysicalObjects']\n",
    "\n",
    "normalized_df"
   ]
  },
  {
   "cell_type": "code",
   "execution_count": null,
   "metadata": {},
   "outputs": [],
   "source": [
    "result = sm.ols(formula=\"truecoopopti ~ gNbOfPhysicalObjects + nTolerance + nOpti + evaluationTime\", data=normalized_df).fit()\n",
    "result.summary()"
   ]
  },
  {
   "cell_type": "code",
   "execution_count": null,
   "metadata": {},
   "outputs": [],
   "source": [
    "result = sm.ols(formula=\"medfit ~ gNbOfPhysicalObjects + nTolerance + nOpti\", data=normalized_df).fit()\n",
    "result.summary()"
   ]
  },
  {
   "cell_type": "code",
   "execution_count": null,
   "metadata": {},
   "outputs": [],
   "source": [
    "df['ratio'] = (df['gNbOfPhysicalObjects'] / 100)\n",
    "ntol=1\n",
    "fig, axs = plt.subplots(3, 1, figsize=(5, 12))\n",
    "st = fig.suptitle(f\"Tolerance={ntol}\", fontsize=14)\n",
    "\n",
    "curcond = df.query(f'nTolerance == {ntol} and evaluationTime == 1000')\n",
    "sns.heatmap(curcond.pivot_table('meanfit', 'nOpti', 'gNbOfPhysicalObjects'), cmap=sns.cm.rocket_r, ax=axs[0])\n",
    "axs[0].set_ylabel('Nombre optimal par opp')\n",
    "axs[0].set_xlabel('Nombre d\\'opportunités')\n",
    "axs[0].set_title('Fitness Moyenne')\n",
    "\n",
    "\n",
    "sns.heatmap(curcond.pivot_table('truecoopopti', 'nOpti', 'gNbOfPhysicalObjects'), cmap=sns.cm.rocket_r, vmin=0, vmax=10, ax=axs[1])\n",
    "axs[1].set_ylabel('Nombre optimal par opp')\n",
    "axs[1].set_xlabel('Nombre d\\'opportunités')\n",
    "axs[1].set_title('Coopération Moyenne')\n",
    "\n",
    "def bellcurve(x, mu, sigma):\n",
    "    return  1.0 / np.sqrt(2 * np.pi) * 1.0 / sigma * np.exp(- ((x - mu) * (x - mu)) / (2 * sigma * sigma))\n",
    "\n",
    "def alonepayoff(x):\n",
    "    a = 5\n",
    "    b = 10\n",
    "    return a * x  - 0.5 * x**2\n",
    "\n",
    "df['betteralone'] = bellcurve(1, df['nOpti'], df['nTolerance']) * alonepayoff(5) * 1000\n",
    "df['difffit'] = (df['meanfit'] - df['betteralone'])\n",
    "sns.heatmap(curcond.pivot_table('difffit', 'nOpti', 'gNbOfPhysicalObjects'), linewidth=0.01, cmap=sns.cm.rocket_r, ax=axs[2])\n",
    "axs[2].set_ylabel('Nombre optimal par opp')\n",
    "axs[2].set_xlabel('Nombre d\\'opportunités')\n",
    "axs[2].set_title('Différence entre fitness seule espérée et fitness moyenne')\n",
    "fig.tight_layout()\n",
    "\n",
    "# shift subplots down:\n",
    "st.set_y(0.95)\n",
    "fig.subplots_adjust(top=0.90)\n",
    "plt.show(fig)"
   ]
  },
  {
   "cell_type": "code",
   "execution_count": null,
   "metadata": {},
   "outputs": [],
   "source": [
    "df.query('nOpti == 2 and evaluationTime == 1000 and nTolerance == 0.2 and gNbOfPhysicalObjects == 10')[['nOpti', 'gNbOfPhysicalObjects', 'medfit', 'betteralone', 'difffit']]"
   ]
  },
  {
   "cell_type": "code",
   "execution_count": null,
   "metadata": {},
   "outputs": [],
   "source": []
  },
  {
   "cell_type": "code",
   "execution_count": null,
   "metadata": {},
   "outputs": [],
   "source": []
  }
 ],
 "metadata": {
  "kernelspec": {
   "display_name": "Python 3",
   "language": "python",
   "name": "python3"
  },
  "language_info": {
   "codemirror_mode": {
    "name": "ipython",
    "version": 3
   },
   "file_extension": ".py",
   "mimetype": "text/x-python",
   "name": "python",
   "nbconvert_exporter": "python",
   "pygments_lexer": "ipython3",
   "version": "3.7.3"
  }
 },
 "nbformat": 4,
 "nbformat_minor": 2
}
