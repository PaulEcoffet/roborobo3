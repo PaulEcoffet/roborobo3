{
 "cells": [
  {
   "cell_type": "code",
   "execution_count": null,
   "metadata": {},
   "outputs": [],
   "source": [
    "import pandas as pd\n",
    "import matplotlib.pyplot as plt\n",
    "import numpy as np\n",
    "import seaborn as sns\n",
    "import glob\n",
    "import scipy.stats\n",
    "from IPython.display import Video, display, HTML\n",
    "import re\n",
    "\n",
    "sns.set()\n",
    "\n",
    "\n",
    "def gethighest(vals, prefix=\"logall_\"):\n",
    "        m = np.argmax([int(re.search(f'{prefix}(\\d+)', val).group(1)) for val in vals])\n",
    "        return vals[m]\n",
    "\n",
    "def read_csvx(path, *args, **kwargs):\n",
    "    try:\n",
    "        return pd.read_csv(str(path) +'.gz', *args, **kwargs)\n",
    "    except Exception as e:\n",
    "        return pd.read_csv(str(path), *args, **kwargs)\n",
    "\n",
    "        \n",
    "def readparams(file):\n",
    "    params = {} \n",
    "    with open(file) as f:\n",
    "        for line in f:\n",
    "            line = line[:-1]  # remove \\n\n",
    "            if not line or line.startswith('#') or line.startswith('import'):\n",
    "                continue\n",
    "            key, val = line.split('=')\n",
    "            if val.lower() == 'true' or val.lower() == 'false':\n",
    "                params[key] = val.lower() == 'true'\n",
    "            else:\n",
    "                try:\n",
    "                    params[key] = float(val)\n",
    "                except ValueError:\n",
    "                    params[key] = val\n",
    "    return params"
   ]
  },
  {
   "cell_type": "code",
   "execution_count": null,
   "metadata": {},
   "outputs": [],
   "source": [
    "import tqdm\n",
    "params = []\n",
    "prefix = '/home/pecoffet/remoterobo'\n",
    "\n",
    "paths = sorted([]\n",
    "                  + glob.glob(f\"{prefix}/logs/lionscross2/*/*/*/*/*/rep00/\", recursive=True)\n",
    "                  )\n",
    "#paths = sorted(glob.glob(f\"{prefix}/logs/lions-nvar-*-2019-06-*/**/rep00/\", recursive=True))\n",
    "for path in tqdm.tqdm_notebook(paths):\n",
    "    #print(path)\n",
    "    try:\n",
    "        logall = read_csvx(gethighest(glob.glob(path + 'logall*')), delimiter=\"\\t\")\n",
    "    except Exception as e:\n",
    "        print(e)\n",
    "        continue\n",
    "    curparam = readparams(glob.glob(path + 'properties*')[0])\n",
    "    logall.query(f'nbOnOpp == {curparam[\"nOpti\"]}')[\"curCoopNoCoef\"].mean()\n",
    "    nmod = logall['nbOnOpp'].mode()[0]\n",
    "    coopopti = np.nanmean(logall.query(f\"nbOnOpp == {curparam['nOpti']}\")[\"curCoopNoCoef\"])\n",
    "    if np.isnan(coopopti):  # WARNING, bold choice !\n",
    "        coopopti = 0\n",
    "    coopmod =  np.nanmean(logall.query(f'nbOnOpp == {nmod}')[\"curCoopNoCoef\"].mean())\n",
    "    params.append({'path':path, 'params':curparam, 'coopopti': coopopti, 'coopmod': coopmod})\n",
    "\n"
   ]
  },
  {
   "cell_type": "code",
   "execution_count": null,
   "metadata": {},
   "outputs": [],
   "source": [
    "diffkeys = set()\n",
    "missingkeys = set()\n",
    "for i in tqdm.tqdm_notebook(range(len(params))):\n",
    "    for key in params[i]['params'].keys():\n",
    "        try:\n",
    "            if any(params[j]['params'][key] != params[i]['params'][key] for j in range(0, len(params) - 1)):\n",
    "                diffkeys.add(key)\n",
    "        except KeyError:\n",
    "            missingkeys.add(key)"
   ]
  },
  {
   "cell_type": "code",
   "execution_count": null,
   "metadata": {},
   "outputs": [],
   "source": [
    "excluded = ['gSeed', 'gLogFilename', 'path']\n",
    "processed = []\n",
    "for elem in params:\n",
    "    param = elem['params']\n",
    "    ess = param['meanA'] / param['nOpti']\n",
    "    so = param['meanA'] + param['b'] / float(param['nOpti'])\n",
    "    outdict = {'coopopti': (elem['coopopti'] - ess) / (so - ess) , 'truecoopopti': elem['coopopti'],\n",
    "               'coopmod': (elem['coopmod'] - ess) / (so - ess) , 'truecoopmod': elem['coopmod']}\n",
    "    for key in diffkeys:\n",
    "        if key in excluded: continue\n",
    "        outdict[key] = elem['params'][key]\n",
    "    processed.append(outdict)\n",
    "    for key in missingkeys:\n",
    "        if key in excluded: continue\n",
    "        outdict[key] = elem['params'].get(key, False)\n",
    "df = pd.DataFrame(processed)\n",
    "normalized_df=(df-df.mean())/df.std()"
   ]
  },
  {
   "cell_type": "code",
   "execution_count": null,
   "metadata": {},
   "outputs": [],
   "source": []
  },
  {
   "cell_type": "code",
   "execution_count": null,
   "metadata": {},
   "outputs": [],
   "source": [
    "df"
   ]
  },
  {
   "cell_type": "code",
   "execution_count": null,
   "metadata": {},
   "outputs": [],
   "source": [
    "nopti = 2\n",
    "sns.regplot(x='gNbOfPhysicalObjects', y='truecoopopti', data=df.query(f'nOpti == {nopti} and nTolerance == 0.2'))\n",
    "plt.plot()\n",
    "plt.axhline(5/nopti, label='defect', c='r')\n",
    "plt.axhline(5+5*(nopti-1)/nopti, label='SO', c='b')\n",
    "plt.legend()"
   ]
  },
  {
   "cell_type": "code",
   "execution_count": null,
   "metadata": {},
   "outputs": [],
   "source": [
    "sns.regplot(x='nOpti', y='truecoopopti', data=df.query(f' nTolerance == 0.2 and gNbOfPhysicalObjects > 50'))\n",
    "sm.ols(formula='truecoopopti ~ evaluationTime', data=df).fit().summary()"
   ]
  },
  {
   "cell_type": "code",
   "execution_count": null,
   "metadata": {},
   "outputs": [],
   "source": [
    "import statsmodels.formula.api as sm"
   ]
  },
  {
   "cell_type": "code",
   "execution_count": null,
   "metadata": {},
   "outputs": [],
   "source": [
    "#normalized_df['nbRobots'] = normalized_df['gInitialNumberOfRobots']\n",
    "normalized_df['nbObj'] = normalized_df['gNbOfPhysicalObjects']\n",
    "\n",
    "normalized_df"
   ]
  },
  {
   "cell_type": "code",
   "execution_count": null,
   "metadata": {},
   "outputs": [],
   "source": [
    "result = sm.ols(formula=\"truecoopopti ~ gNbOfPhysicalObjects + nTolerance + nOpti + evaluationTime\", data=df).fit()"
   ]
  },
  {
   "cell_type": "code",
   "execution_count": null,
   "metadata": {},
   "outputs": [],
   "source": [
    "result.summary()"
   ]
  },
  {
   "cell_type": "code",
   "execution_count": null,
   "metadata": {},
   "outputs": [],
   "source": [
    "df"
   ]
  },
  {
   "cell_type": "code",
   "execution_count": null,
   "metadata": {},
   "outputs": [],
   "source": []
  }
 ],
 "metadata": {
  "kernelspec": {
   "display_name": "Python 3",
   "language": "python",
   "name": "python3"
  },
  "language_info": {
   "codemirror_mode": {
    "name": "ipython",
    "version": 3
   },
   "file_extension": ".py",
   "mimetype": "text/x-python",
   "name": "python",
   "nbconvert_exporter": "python",
   "pygments_lexer": "ipython3",
   "version": "3.6.7"
  }
 },
 "nbformat": 4,
 "nbformat_minor": 2
}
