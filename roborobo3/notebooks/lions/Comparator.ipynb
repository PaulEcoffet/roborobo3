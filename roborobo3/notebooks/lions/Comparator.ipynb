{
 "cells": [
  {
   "cell_type": "code",
   "execution_count": 36,
   "metadata": {},
   "outputs": [],
   "source": [
    "import pandas as pd\n",
    "import matplotlib.pyplot as plt\n",
    "import numpy as np\n",
    "import seaborn as sns\n",
    "import glob\n",
    "import scipy.stats\n",
    "from IPython.display import Video, display, HTML\n",
    "import re\n",
    "import sys\n",
    "import traceback\n",
    "\n",
    "sns.set()\n",
    "\n",
    "\n",
    "def gethighest(vals, prefix=\"logall_\"):\n",
    "        m = np.argmax([int(re.search(f'{prefix}(\\d+)', val).group(1)) for val in vals])\n",
    "        return vals[m]\n",
    "\n",
    "def read_csvx(path, *args, **kwargs):\n",
    "    try:\n",
    "        return pd.read_csv(str(path) +'.gz', *args, **kwargs)\n",
    "    except Exception as e:\n",
    "        return pd.read_csv(str(path), *args, **kwargs)\n",
    "\n",
    "        \n",
    "def readparams(file):\n",
    "    params = {}\n",
    "    with open(file) as f:\n",
    "        for line in f:\n",
    "            line = line[:-1]  # remove \\n\n",
    "            if not line or line.startswith('#') or line.startswith('import'):\n",
    "                continue\n",
    "            key, val = line.split('=')\n",
    "            if val.lower() == 'true' or val.lower() == 'false':\n",
    "                params[key] = val.lower() == 'true'\n",
    "            else:\n",
    "                try:\n",
    "                    params[key] = float(val)\n",
    "                except ValueError:\n",
    "                    params[key] = val\n",
    "    return params"
   ]
  },
  {
   "cell_type": "code",
   "execution_count": 37,
   "metadata": {},
   "outputs": [
    {
     "data": {
      "application/vnd.jupyter.widget-view+json": {
       "model_id": "ce066a83c72749d796fc668ac85aa2c7",
       "version_major": 2,
       "version_minor": 0
      },
      "text/plain": [
       "Text(value='', _dom_classes=('user-agent-content33802afe-142c-44e8-811f-bdb4348efc43',))"
      ]
     },
     "metadata": {},
     "output_type": "display_data"
    }
   ],
   "source": [
    "from IPython.display import HTML, display\n",
    "from ipywidgets import widgets\n",
    "a = widgets.Text()\n",
    "import uuid\n",
    "classname='user-agent-content'+str(uuid.uuid4())\n",
    "a.add_class(classname)\n",
    "display(a)"
   ]
  },
  {
   "cell_type": "code",
   "execution_count": 38,
   "metadata": {},
   "outputs": [
    {
     "data": {
      "text/html": [
       "\n",
       "<script>\n",
       "'use strict';\n",
       "// Get the element\n",
       "var inp = document.getElementsByClassName(\n",
       "     'user-agent-content33802afe-142c-44e8-811f-bdb4348efc43')[0].getElementsByTagName('input')[0];\n",
       "\n",
       "// Set the UA\n",
       "inp.value = window.navigator.userAgent;\n",
       "\n",
       "// Trigger change for Jupyter lab kernel\n",
       "var evt = new Event('change', {\"bubbles\":true, \"cancelable\":false});\n",
       "inp.dispatchEvent(evt);\n",
       "</script>\n"
      ],
      "text/plain": [
       "<IPython.core.display.HTML object>"
      ]
     },
     "execution_count": 38,
     "metadata": {},
     "output_type": "execute_result"
    }
   ],
   "source": [
    "HTML(\"\"\"\n",
    "<script>\n",
    "'use strict';\n",
    "// Get the element\n",
    "var inp = document.getElementsByClassName(\n",
    "     '\"\"\" + str(classname) + \"\"\"')[0].getElementsByTagName('input')[0];\n",
    "\n",
    "// Set the UA\n",
    "inp.value = window.navigator.userAgent;\n",
    "\n",
    "// Trigger change for Jupyter lab kernel\n",
    "var evt = new Event('change', {\"bubbles\":true, \"cancelable\":false});\n",
    "inp.dispatchEvent(evt);\n",
    "</script>\n",
    "\"\"\")"
   ]
  },
  {
   "cell_type": "code",
   "execution_count": 39,
   "metadata": {},
   "outputs": [
    {
     "name": "stdout",
     "output_type": "stream",
     "text": [
      "retina set\n"
     ]
    }
   ],
   "source": [
    "if 'Mac OS' in a.value :\n",
    "    %config InlineBackend.figure_format = 'retina'\n",
    "    print('retina set')\n",
    "else:\n",
    "    print('nothing changed')"
   ]
  },
  {
   "cell_type": "code",
   "execution_count": 41,
   "metadata": {},
   "outputs": [
    {
     "name": "stdout",
     "output_type": "stream",
     "text": [
      "params already exist, you need to force clear it\n"
     ]
    },
    {
     "name": "stdin",
     "output_type": "stream",
     "text": [
      "Clear params? Y/N Y\n"
     ]
    },
    {
     "name": "stdout",
     "output_type": "stream",
     "text": [
      "params have been cleared\n"
     ]
    },
    {
     "name": "stdin",
     "output_type": "stream",
     "text": [
      "run name? (lionscross24-mean5paperready) \n"
     ]
    }
   ],
   "source": [
    "import tqdm.notebook\n",
    "try:\n",
    "    params\n",
    "except NameError:\n",
    "    params = []\n",
    "else:\n",
    "    print('params already exist, you need to force clear it')\n",
    "    clearparam = input('Clear params? Y/N')\n",
    "    if clearparam.upper() == 'Y':\n",
    "        params = []\n",
    "        print('params have been cleared')\n",
    "    else:\n",
    "        print('params have not been cleared')\n",
    "prefix = '/home/pecoffet/remoterobo'\n",
    "prefix = '/home/ecoffet/robocoop'\n",
    "gen = 1499\n",
    "runname = 'lionscross24-mean5paperready'\n",
    "runalias = input(f'run name? ({runname})')\n",
    "if not runalias:\n",
    "    runalias = runname"
   ]
  },
  {
   "cell_type": "code",
   "execution_count": 42,
   "metadata": {},
   "outputs": [
    {
     "name": "stdout",
     "output_type": "stream",
     "text": [
      "merging\n"
     ]
    },
    {
     "data": {
      "application/vnd.jupyter.widget-view+json": {
       "model_id": "41d13bb9e90549029085cd0bcc00f7e1",
       "version_major": 2,
       "version_minor": 0
      },
      "text/plain": [
       "HBox(children=(FloatProgress(value=0.0, max=15480.0), HTML(value='')))"
      ]
     },
     "metadata": {},
     "output_type": "display_data"
    },
    {
     "name": "stdout",
     "output_type": "stream",
     "text": [
      "\n",
      "everything already there\n",
      "defaultdict(<function <lambda> at 0x7fb59de0eb00>, {'readFit': 680.5878541469574, 'readLogall': 1889.8340838998556, 'processData': 912.4745917916298})\n",
      "3482.9792637079954\n"
     ]
    }
   ],
   "source": [
    "import time\n",
    "from collections import defaultdict\n",
    "paths = sorted([]\n",
    "                  + glob.glob(f\"{prefix}/logs/{runname}/**/rep00/\", recursive=True)\n",
    "                  )\n",
    "#paths = sorted(glob.glob(f\"{prefix}/logs/lions-nvar-*-2019-06-*/**/rep00/\", recursive=True))\n",
    "timers = defaultdict(lambda: 0)\n",
    "start = time.monotonic()\n",
    "current = start\n",
    "alreadythere = set(param['path'] for param in params)\n",
    "merge = True\n",
    "if merge:\n",
    "    try:\n",
    "        alreadycomputedf = pd.read_pickle(f'all_file_loaded_{runalias.replace(\"*\", \"\")}.pkl.gz')\n",
    "\n",
    "        try:\n",
    "            print('merging')\n",
    "            alreadythere.update(set(alreadycomputedf['path']))\n",
    "        except KeyError:\n",
    "            pass\n",
    "    except FileNotFoundError:\n",
    "        alreadycomputedf = pd.DataFrame()\n",
    "else:\n",
    "    print('Merge is disabled, it can slow down the process')\n",
    "    alreadycomputedf = pd.DataFrame()\n",
    "        \n",
    "for path in tqdm.notebook.tqdm(list(path for path in paths if path not in alreadythere)):\n",
    "    \n",
    "\n",
    "    #############\n",
    "    # Read conf #\n",
    "    #############\n",
    "    curparam = readparams(glob.glob(path + 'properties*')[0])\n",
    "    \n",
    "    ###############\n",
    "    # Get Fitness #\n",
    "    ###############\n",
    "    fitness = read_csvx(path + \"/../fit.txt\", delimiter=\"\\t\", names=['gen', 'min', 'q1', 'med', 'q3', 'max'])\n",
    "    timers['readFit'] += time.monotonic() - current\n",
    "    current = time.monotonic()\n",
    "    \n",
    "    \n",
    "    #################\n",
    "    # output graphs #\n",
    "    #################\n",
    "    if (False and curparam['maxPlayer'] >= 80 and curparam['gNbOfPhysicalObjects'] >= 40):\n",
    "        print('coucou', path)\n",
    "        plt.figure()\n",
    "        fitness.plot(x='gen', y='med')\n",
    "        plt.show()\n",
    "        \n",
    "\n",
    "    try:\n",
    "        logall = read_csvx(path+f\"/logall_{gen}.txt\", delimiter=\"\\t\")\n",
    "    except FileNotFoundError:\n",
    "        #print('not finished yet for', path)\n",
    "        continue\n",
    "    timers['readLogall'] += time.monotonic() - current\n",
    "    current = time.monotonic()\n",
    "    \n",
    "\n",
    "    ################\n",
    "    # Process data #\n",
    "    ################\n",
    "    medfit = fitness.query(f\"gen == {gen}\")['med'].median()\n",
    "    #meanfit = fitness.query(f\"gen == {gen}\")['fitness'].mean()\n",
    "\n",
    "    \n",
    "    coopoptis = logall.query(f'nbOnOpp == {curparam[\"nOpti\"]}').groupby('id', as_index=False)['curCoopNoCoef'].apply(lambda x: x.iloc[0])\n",
    "    nmod = logall['nbOnOpp'].mode()[0]\n",
    "    coopabove2 = logall.query('nbOnOpp >= 2')['curCoopNoCoef'].mean()\n",
    "    if coopoptis.empty or np.isnan(coopoptis.mean()):  # WARNING, bold choice !\n",
    "        coopopti = 0\n",
    "    else:\n",
    "        coopopti = coopoptis.mean()\n",
    "    coopmod =  logall.query(f'nbOnOpp == {nmod}').groupby('id', as_index=False)['curCoopNoCoef'].mean()['curCoopNoCoef'].mean()\n",
    "    params.append({'path':path, 'params':curparam, 'coopopti': coopopti, 'coopmod': coopmod, 'coopabove2': coopabove2,\n",
    "                   'nmod': nmod, 'medfit': medfit, 'meanfit': medfit})\n",
    "    timers['processData'] += time.monotonic() - current\n",
    "    current = time.monotonic()\n",
    "else:\n",
    "    print('everything already there')\n",
    "end = time.monotonic()\n",
    "\n",
    "print(timers)\n",
    "print(end - start)\n",
    "\n",
    "processed = []\n",
    "df = pd.concat((pd.DataFrame(processed), alreadycomputedf))\n",
    "excluded = []\n",
    "for elem in params:\n",
    "    param = elem['params']\n",
    "    ess = param['meanA'] / param['nOpti']\n",
    "    so = param['meanA'] + param['b'] * (param['nOpti'] - 1) / param['nOpti']\n",
    "    outdict = {'coopopti': (elem['coopopti'] - ess) / (so - ess) , 'truecoopopti': elem['coopopti'],\n",
    "               'coopmod': (elem['coopmod'] - ess) / (so - ess) , 'truecoopmod': elem['coopmod'], 'nmod': elem['nmod'], 'medfit': elem['medfit'],\n",
    "               'meanfit': elem['meanfit'], 'coopabove2': elem['coopabove2'], 'path': elem['path']}\n",
    "    outdict.update(param)\n",
    "    processed.append(outdict)\n",
    "df = pd.concat((pd.DataFrame(processed), alreadycomputedf))\n",
    "assert(df['path'].nunique() == len(df))\n",
    "df.to_pickle(f'all_file_loaded_{runalias}.pkl.gz')"
   ]
  },
  {
   "cell_type": "code",
   "execution_count": 8,
   "metadata": {},
   "outputs": [],
   "source": []
  },
  {
   "cell_type": "code",
   "execution_count": null,
   "metadata": {},
   "outputs": [],
   "source": [
    "if False:\n",
    "    diffkeys = set()\n",
    "    missingkeys = set()\n",
    "    i=0\n",
    "    for key in params[i]['params'].keys():\n",
    "        try:\n",
    "            if any(params[j]['params'][key] != params[i]['params'][key] for j in range(0, len(params) - 1)) and key not in diffkeys:\n",
    "                diffkeys.add(key)\n",
    "                print(key, 'added at step', i)\n",
    "        except KeyError:\n",
    "            missingkeys.add(key)"
   ]
  },
  {
   "cell_type": "code",
   "execution_count": 8,
   "metadata": {},
   "outputs": [],
   "source": [
    "excluded = []\n",
    "processed = []\n",
    "for elem in params:\n",
    "    param = elem['params']\n",
    "    ess = param['meanA'] / param['nOpti']\n",
    "    so = param['meanA'] + param['b'] * (param['nOpti'] - 1) / param['nOpti']\n",
    "    outdict = {'coopopti': (elem['coopopti'] - ess) / (so - ess) , 'truecoopopti': elem['coopopti'],\n",
    "               'coopmod': (elem['coopmod'] - ess) / (so - ess) , 'truecoopmod': elem['coopmod'], 'nmod': elem['nmod'], 'medfit': elem['medfit'],\n",
    "               'meanfit': elem['meanfit'], 'coopabove2': elem['coopabove2'], 'path': elem['path']}\n",
    "    outdict.update(param)\n",
    "    processed.append(outdict)\n",
    "df = pd.concat((pd.DataFrame(processed), alreadycomputedf))\n",
    "assert(df['path'].nunique() == len(df))\n",
    "df.to_pickle(f'all_file_loaded_{runalias}.pkl.gz')"
   ]
  },
  {
   "cell_type": "code",
   "execution_count": null,
   "metadata": {},
   "outputs": [],
   "source": []
  },
  {
   "cell_type": "code",
   "execution_count": 12,
   "metadata": {},
   "outputs": [
    {
     "name": "stdout",
     "output_type": "stream",
     "text": [
      "all_file_loaded_lionscross26-costtime.pkl.gz\n"
     ]
    }
   ],
   "source": [
    "print(f'all_file_loaded_{runalias.replace(\"*\", \"\")}.pkl.gz')\n",
    "df = pd.read_pickle(f'all_file_loaded_{runalias.replace(\"*\", \"\")}.pkl.gz')\n",
    "#normalized_df=(df-df.mean())/df.std()"
   ]
  },
  {
   "cell_type": "code",
   "execution_count": null,
   "metadata": {},
   "outputs": [],
   "source": []
  },
  {
   "cell_type": "code",
   "execution_count": null,
   "metadata": {},
   "outputs": [],
   "source": [
    "%matplotlib inline\n",
    "sns.set_context('paper')\n",
    "sns.set_style('white')\n",
    "from colour import Color\n",
    "\n",
    "## Colors\n",
    "coopColor = Color(\"#3375b2\")\n",
    "defectColor = Color(\"#963d35\")\n",
    "badtoomany = Color(\"#963d35\")\n",
    "badtoomany.luminance *= 2\n",
    "badnotenough = Color(\"#963d35\")\n",
    "badnotenough.luminance *= 1\n",
    "good = Color(\"#3375b2\")\n",
    "\n",
    "\n",
    "## Helpers\n",
    "def plot_ess(data, *args, **kwargs):\n",
    "    try:\n",
    "        nopti = data['nOpti'].mean()\n",
    "    except KeyError:\n",
    "        nopti = 2\n",
    "    plt.axhline(5/nopti, *args, **kwargs)\n",
    "    \n",
    "def plot_so(data, *args, **kwargs):\n",
    "    try:\n",
    "        nopti = data['nOpti'].mean()\n",
    "    except KeyError:\n",
    "        nopti = 2\n",
    "    plt.axhline(5 + 10 * (nopti-1)/nopti, *args, **kwargs)\n",
    "\n",
    "def plot_span(data, *args, **kwargs):\n",
    "    try:\n",
    "        nhat = data['nOpti'].mean()\n",
    "    except KeyError:\n",
    "        nhat = 2\n",
    "    omega = data['gNbOfPhysicalObjects'].mean()\n",
    "    vs = plt.axvspan(0, nhat+1, alpha=0.1, color=badnotenough.hex, label=\"Not enough agents\")\n",
    "    vs.set_zorder(0)\n",
    "    vs = plt.axvspan(nhat+1, min(nhat*omega+1, 102), alpha=0.1, color=good.hex, label=\"Enough opportunities and agents\")\n",
    "    vs.set_zorder(0)\n",
    "    vs = plt.axvspan(min(nhat*omega+1, 102), 102, alpha=0.1, color=badtoomany.hex, label=\"Not enough opportunities\")\n",
    "    vs.set_zorder(0)\n",
    "\n",
    "    \n",
    "def annotator(itera, *args, size=15, **kwargs):\n",
    "    plt.text(-0.05, 1.05, next(itera) + '.', transform=plt.gca().transAxes, \n",
    "            size=size, weight='bold')\n"
   ]
  },
  {
   "cell_type": "code",
   "execution_count": null,
   "metadata": {},
   "outputs": [],
   "source": [
    "import string\n",
    "dfcond = df\n",
    "g = sns.relplot(data=dfcond, row=\"nOpti\", col=\"gNbOfPhysicalObjects\", x=\"maxPlayer\", y='truecoopopti' , kind=\"line\",\n",
    "                facet_kws={'ylim':(-0.5, 12.5), 'xlim':(0, 102), 'sharey': True, 'legend_out': True}, aspect=1.2, height=2.5)\n",
    "g.map_dataframe(sns.scatterplot, x=\"maxPlayer\", y=\"truecoopopti\")\n",
    "#g.map_dataframe(sns.scatterplot, x=\"maxPlayer\", y=\"truecoopmod\", color=\"green\")\n",
    "\n",
    "g.map_dataframe(plot_ess,  color=defectColor.hex, label=\"defect investment\")\n",
    "g.map_dataframe(plot_so,  color=coopColor.hex, label=\"social optimum investment\")\n",
    "g.map_dataframe(plot_span)\n",
    "g.map(annotator, itera=iter(string.ascii_lowercase))\n",
    "g.set(ylabel='Mean investment for $\\hat{n}$', xlabel=\"Number of agents in the environment\")\n",
    "g.set_titles(\"$\\omega = {col_name} | \\hat{{n}} = {row_name}$\")\n",
    "\n",
    "#g.set_xlabel('Number of agents in the environment')\n",
    "g.add_legend()\n",
    "g.savefig('out/varNrowOpp.pdf')\n",
    "plt.show()"
   ]
  },
  {
   "cell_type": "code",
   "execution_count": null,
   "metadata": {},
   "outputs": [],
   "source": [
    "nopti = 4\n",
    "ntol = 0.7\n",
    "condrec = f'cost == 5 and gNbOfPhysicalObjects == 80'\n",
    "curcond = df.query(condrec)\n",
    "vi='maxPlayer'\n",
    "vilab='Nombre d\\'agents dans l\\'environnement'\n",
    "fig, gax = plt.subplots(2, 1, figsize=(6, 3*2))\n",
    "axs = gax\n",
    "st = fig.suptitle(\"Avec 20 opportunités, après 1500 générations\")\n",
    "curplot = 0\n",
    "sns.scatterplot(x=vi, y='coopopti', data=curcond, ax=axs[curplot], alpha=0.7)\n",
    "sns.lineplot(x=vi, y='coopopti', data=curcond, ax=axs[curplot])\n",
    "axs[curplot].set_ylabel('Coop moyenne des agents')\n",
    "axs[curplot].set_xlabel(vilab)\n",
    "axs[curplot].axhline(0, label='defect', c='r')\n",
    "axs[curplot].axhline(1, label='SO', c='b')\n",
    "axs[curplot].legend()\n",
    "\n",
    "curplot += 1\n",
    "\n",
    "if False:\n",
    "    sns.regplot(x=vi, y='nmod', data=curcond, ax=axs[curplot])\n",
    "    axs[curplot].set_ylabel('Mode du nombre d\\'agent par opp')\n",
    "    axs[curplot].set_xlabel(vilab)\n",
    "    #axs[curplot].set_ylim(0, 10)\n",
    "    axs[curplot].axhline(nopti, label='nopti', c='b')\n",
    "    axs[curplot].legend()\n",
    "    curplot += 1\n",
    "\n",
    "sns.scatterplot(x=vi, y='medfit', data=curcond, ax=axs[curplot], alpha=0.7)\n",
    "sns.lineplot(x=vi, y='meanfit', data=curcond, ax=axs[curplot])\n",
    "axs[curplot].set_ylabel('Fitness moyenne des agents')\n",
    "axs[curplot].set_xlabel(vilab)\n",
    "fig.tight_layout()\n",
    "st.set_y(0.95)\n",
    "fig.subplots_adjust(top=0.90)\n",
    "plt.show(fig);\n"
   ]
  },
  {
   "cell_type": "code",
   "execution_count": null,
   "metadata": {},
   "outputs": [],
   "source": [
    "import statsmodels.formula.api as sm\n",
    "sns.regplot(x='nOpti', y='truecoopopti', data=df.query(f'nTolerance == {ntol} and gNbOfPhysicalObjects == 20.0 and maxPlayer == 30'))\n",
    "sm.ols(formula='truecoopopti ~ nOpti', data=df.query(f'nTolerance == {ntol} and gNbOfPhysicalObjects == 20.0 and maxPlayer == 30')).fit().summary()"
   ]
  },
  {
   "cell_type": "code",
   "execution_count": null,
   "metadata": {},
   "outputs": [],
   "source": [
    "sns.regplot(x='nOpti', y='medfit', data=df.query(f'maxPlayer == 30'))\n",
    "sm.ols(formula='medfit ~ nOpti', data=df.query(f'maxPlayer == 30')).fit().summary()"
   ]
  },
  {
   "cell_type": "code",
   "execution_count": null,
   "metadata": {},
   "outputs": [],
   "source": [
    "#normalized_df['nbRobots'] = normalized_df['gInitialNumberOfRobots']\n",
    "normalized_df['nbObj'] = normalized_df['gNbOfPhysicalObjects']"
   ]
  },
  {
   "cell_type": "code",
   "execution_count": null,
   "metadata": {},
   "outputs": [],
   "source": [
    "result = sm.ols(formula=\"truecoopopti ~ maxPlayer + nOpti + nTolerance\", data=normalized_df).fit()\n",
    "result.summary()"
   ]
  },
  {
   "cell_type": "code",
   "execution_count": null,
   "metadata": {},
   "outputs": [],
   "source": [
    "result = sm.ols(formula=\"medfit ~ gNbOfPhysicalObjects + nOpti + oppDecay\", data=normalized_df).fit()\n",
    "result.summary()"
   ]
  },
  {
   "cell_type": "code",
   "execution_count": null,
   "metadata": {},
   "outputs": [],
   "source": [
    "\n",
    "def bellcurve(x, mu, sigma):\n",
    "    return  1.0 / np.sqrt(2 * np.pi) * 1.0 / sigma * np.exp(- ((x - mu) * (x - mu)) / (2 * sigma * sigma))\n",
    "\n",
    "def alonepayoff(x):\n",
    "    a = 5\n",
    "    b = 10\n",
    "    return a * x - 0.5 * x**2\n",
    "\n",
    "def alonepayoffbellcurve(mu, sigma):\n",
    "    a = 5\n",
    "    b = 10\n",
    "    x = np.linspace(0, 10, 1000)\n",
    "    xs, mus = np.meshgrid(x, mu)\n",
    "    xs, sigmas = np.meshgrid(x, sigma)\n",
    "    truemax = np.max((a * xs) * bellcurve(1, mus, sigmas) / bellcurve(1, 1, sigmas)  - 0.5 * xs**2, axis=1)\n",
    "    return truemax.flatten()"
   ]
  },
  {
   "cell_type": "code",
   "execution_count": null,
   "metadata": {},
   "outputs": [],
   "source": [
    "alonepayoffbellcurve(2, 2)"
   ]
  },
  {
   "cell_type": "code",
   "execution_count": null,
   "metadata": {},
   "outputs": [],
   "source": [
    "ntol=0.7\n",
    "\n",
    "df['ratio'] = (df['maxPlayer'])\n",
    "df['betteralone'] = alonepayoffbellcurve(df['nOpti'], df['nTolerance'])\n",
    "df['difffit'] = (df['meanfit'] - df['betteralone'])\n",
    "\n",
    "fig, axs = plt.subplots(3, 1, figsize=(5, 12))\n",
    "st = fig.suptitle(f\"Tolerance={ntol}\", fontsize=14)\n",
    "\n",
    "condrec = f'nTolerance == {ntol} and gNbOfPhysicalObjects == 20'\n",
    "\n",
    "curcond = df.query(condrec)\n",
    "sns.heatmap(curcond.pivot_table('meanfit', 'nOpti', 'maxPlayer'), cmap=sns.cm.rocket_r, ax=axs[0])\n",
    "axs[0].set_ylabel('Nombre optimal par opp')\n",
    "axs[0].set_xlabel('Nombre d\\'opportunités')\n",
    "axs[0].set_title('Fitness Moyenne')\n",
    "\n",
    "\n",
    "sns.heatmap(curcond.pivot_table('truecoopopti', 'nOpti', 'maxPlayer'), cmap=sns.cm.rocket_r, vmin=0, vmax=10, ax=axs[1])\n",
    "axs[1].set_ylabel('Nombre optimal par opp')\n",
    "axs[1].set_xlabel('Nombre d\\'opportunités')\n",
    "axs[1].set_title('Coopération Moyenne')\n",
    "\n",
    "sns.heatmap(curcond.pivot_table('difffit', 'nOpti', 'maxPlayer'), linewidth=0.01, cmap=sns.cm.rocket_r, ax=axs[2])\n",
    "axs[2].set_ylabel('Nombre optimal par opp')\n",
    "axs[2].set_xlabel('Nombre d\\'opportunités')\n",
    "axs[2].set_title('Différence entre fitness seule espérée et fitness moyenne')\n",
    "fig.tight_layout()\n",
    "\n",
    "# shift subplots down:\n",
    "st.set_y(0.95)\n",
    "fig.subplots_adjust(top=0.90)\n",
    "plt.show(fig)"
   ]
  },
  {
   "cell_type": "code",
   "execution_count": null,
   "metadata": {},
   "outputs": [],
   "source": [
    "df.query('nOpti == 2 and gNbOfPhysicalObjects == 10')"
   ]
  },
  {
   "cell_type": "code",
   "execution_count": null,
   "metadata": {},
   "outputs": [],
   "source": [
    "df.query('nOpti == 2 and gNbOfPhysicalObjects == 10')"
   ]
  },
  {
   "cell_type": "code",
   "execution_count": null,
   "metadata": {},
   "outputs": [],
   "source": [
    "sns.regplot(y='truecoopopti', x='oppDecay', data=df.query('nOpti == 2 and nTolerance == 0.2 and gNbOfPhysicalObjects == 60'))\n",
    "plt.ylabel('Coopération moyenne en fin de gen')\n",
    "plt.xlabel('Durée de vie moyenne des opportunités')"
   ]
  },
  {
   "cell_type": "code",
   "execution_count": null,
   "metadata": {},
   "outputs": [],
   "source": [
    "alonepayoffbellcurve(df['nOpti'], df['nTolerance'])"
   ]
  },
  {
   "cell_type": "code",
   "execution_count": null,
   "metadata": {},
   "outputs": [],
   "source": [
    "df.iloc[-1]"
   ]
  },
  {
   "cell_type": "code",
   "execution_count": null,
   "metadata": {},
   "outputs": [],
   "source": [
    "alonepayoffbellcurve(4, 2)"
   ]
  },
  {
   "cell_type": "code",
   "execution_count": null,
   "metadata": {},
   "outputs": [],
   "source": []
  },
  {
   "cell_type": "code",
   "execution_count": null,
   "metadata": {},
   "outputs": [],
   "source": [
    "toread = np.random.choice(list(alreadythere), 50, replace=False)"
   ]
  },
  {
   "cell_type": "code",
   "execution_count": null,
   "metadata": {},
   "outputs": [],
   "source": [
    "%%timeit\n",
    "\n",
    "for path in toread:\n",
    "    read_csvx(path + '/logall_1499.txt', delimiter='\\t')"
   ]
  },
  {
   "cell_type": "code",
   "execution_count": null,
   "metadata": {},
   "outputs": [],
   "source": [
    "for i, path in enumerate(toread):\n",
    "    a = read_csvx(path + '/logall_1499.txt', delimiter='\\t')\n",
    "    a.to_hdf('test/log' + str(i) + '.hdf5.gz', 'log')"
   ]
  },
  {
   "cell_type": "code",
   "execution_count": null,
   "metadata": {},
   "outputs": [],
   "source": [
    "%%timeit\n",
    "\n",
    "for i, path in enumerate(toread):\n",
    "    a = pd.read_hdf(f'test/log{i}.hdf5.gz')"
   ]
  },
  {
   "cell_type": "code",
   "execution_count": null,
   "metadata": {},
   "outputs": [],
   "source": [
    "a"
   ]
  },
  {
   "cell_type": "code",
   "execution_count": null,
   "metadata": {},
   "outputs": [],
   "source": [
    "(2.86 * 1000) / 488 "
   ]
  },
  {
   "cell_type": "code",
   "execution_count": null,
   "metadata": {},
   "outputs": [],
   "source": []
  }
 ],
 "metadata": {
  "kernelspec": {
   "display_name": "Python 3",
   "language": "python",
   "name": "python3"
  },
  "language_info": {
   "codemirror_mode": {
    "name": "ipython",
    "version": 3
   },
   "file_extension": ".py",
   "mimetype": "text/x-python",
   "name": "python",
   "nbconvert_exporter": "python",
   "pygments_lexer": "ipython3",
   "version": "3.7.7"
  }
 },
 "nbformat": 4,
 "nbformat_minor": 4
}
