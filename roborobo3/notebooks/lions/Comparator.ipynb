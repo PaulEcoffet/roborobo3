{
 "cells": [
  {
   "cell_type": "code",
   "execution_count": 73,
   "metadata": {},
   "outputs": [],
   "source": [
    "import pandas as pd\n",
    "import matplotlib.pyplot as plt\n",
    "import numpy as np\n",
    "import seaborn as sns\n",
    "import glob\n",
    "import scipy.stats\n",
    "from IPython.display import Video, display, HTML\n",
    "import re\n",
    "\n",
    "sns.set()\n",
    "\n",
    "\n",
    "def gethighest(vals, prefix=\"logall_\"):\n",
    "        m = np.argmax([int(re.search(f'{prefix}(\\d+)', val).group(1)) for val in vals])\n",
    "        return vals[m]\n",
    "\n",
    "def read_csvx(path, *args, **kwargs):\n",
    "    try:\n",
    "        return pd.read_csv(str(path) +'.gz', *args, **kwargs)\n",
    "    except Exception as e:\n",
    "        return pd.read_csv(str(path), *args, **kwargs)\n",
    "\n",
    "        \n",
    "def readparams(file):\n",
    "    params = {} \n",
    "    with open(file) as f:\n",
    "        for line in f:\n",
    "            line = line[:-1]  # remove \\n\n",
    "            if not line or line.startswith('#') or line.startswith('import'):\n",
    "                continue\n",
    "            key, val = line.split('=')\n",
    "            if val.lower() == 'true' or val.lower() == 'false':\n",
    "                params[key] = val.lower() == 'true'\n",
    "            else:\n",
    "                try:\n",
    "                    params[key] = float(val)\n",
    "                except ValueError:\n",
    "                    params[key] = val\n",
    "    return params"
   ]
  },
  {
   "cell_type": "code",
   "execution_count": 74,
   "metadata": {},
   "outputs": [],
   "source": [
    "params = []\n",
    "for path in sorted(glob.glob(\"../../../../logs/lions-maxtwo**-2019-06-14*/**/rep00/\", recursive=True) + glob.glob(\"../../../../logs/lions-maxtwo**-2019-06-15*/**/rep00/\", recursive=True)):\n",
    "    try:\n",
    "        logall = read_csvx(gethighest(glob.glob(path + 'logall*')), delimiter=\"\\t\")\n",
    "    except Exception as e:\n",
    "        print(e)\n",
    "        continue\n",
    "    params.append((path, readparams(glob.glob(path + 'properties*')[0]), logall.query('nbOnOpp == 2')['curCoopNoCoef'].mean()))\n",
    "\n",
    "diffkeys = []\n",
    "for key in params[0][1].keys():\n",
    "    if any(params[i][1][key] != params[0][1][key] for i in range(1, len(params))):\n",
    "        diffkeys.append(key)"
   ]
  },
  {
   "cell_type": "code",
   "execution_count": 75,
   "metadata": {},
   "outputs": [
    {
     "data": {
      "text/html": [
       "<div>\n",
       "<style scoped>\n",
       "    .dataframe tbody tr th:only-of-type {\n",
       "        vertical-align: middle;\n",
       "    }\n",
       "\n",
       "    .dataframe tbody tr th {\n",
       "        vertical-align: top;\n",
       "    }\n",
       "\n",
       "    .dataframe thead th {\n",
       "        text-align: right;\n",
       "    }\n",
       "</style>\n",
       "<table border=\"1\" class=\"dataframe\">\n",
       "  <thead>\n",
       "    <tr style=\"text-align: right;\">\n",
       "      <th></th>\n",
       "      <th>b</th>\n",
       "      <th>coop</th>\n",
       "      <th>fakeCoef</th>\n",
       "      <th>gInitialNumberOfRobots</th>\n",
       "      <th>gNbOfPhysicalObjects</th>\n",
       "      <th>gRandomSeed</th>\n",
       "      <th>oppDecay</th>\n",
       "    </tr>\n",
       "  </thead>\n",
       "  <tbody>\n",
       "    <tr>\n",
       "      <th>0</th>\n",
       "      <td>10.0</td>\n",
       "      <td>-0.028028</td>\n",
       "      <td>0.1</td>\n",
       "      <td>100.0</td>\n",
       "      <td>120.0</td>\n",
       "      <td>2.117656e+09</td>\n",
       "      <td>1000.0</td>\n",
       "    </tr>\n",
       "    <tr>\n",
       "      <th>1</th>\n",
       "      <td>10.0</td>\n",
       "      <td>-0.017463</td>\n",
       "      <td>0.1</td>\n",
       "      <td>100.0</td>\n",
       "      <td>120.0</td>\n",
       "      <td>2.117656e+09</td>\n",
       "      <td>1000.0</td>\n",
       "    </tr>\n",
       "    <tr>\n",
       "      <th>2</th>\n",
       "      <td>10.0</td>\n",
       "      <td>0.160710</td>\n",
       "      <td>0.1</td>\n",
       "      <td>100.0</td>\n",
       "      <td>120.0</td>\n",
       "      <td>-2.080186e+08</td>\n",
       "      <td>500.0</td>\n",
       "    </tr>\n",
       "    <tr>\n",
       "      <th>3</th>\n",
       "      <td>10.0</td>\n",
       "      <td>-0.027194</td>\n",
       "      <td>0.1</td>\n",
       "      <td>100.0</td>\n",
       "      <td>120.0</td>\n",
       "      <td>-2.080171e+08</td>\n",
       "      <td>500.0</td>\n",
       "    </tr>\n",
       "    <tr>\n",
       "      <th>4</th>\n",
       "      <td>3.0</td>\n",
       "      <td>-0.042472</td>\n",
       "      <td>0.1</td>\n",
       "      <td>100.0</td>\n",
       "      <td>120.0</td>\n",
       "      <td>-2.064171e+09</td>\n",
       "      <td>1000.0</td>\n",
       "    </tr>\n",
       "  </tbody>\n",
       "</table>\n",
       "</div>"
      ],
      "text/plain": [
       "      b      coop  fakeCoef  gInitialNumberOfRobots  gNbOfPhysicalObjects  \\\n",
       "0  10.0 -0.028028       0.1                   100.0                 120.0   \n",
       "1  10.0 -0.017463       0.1                   100.0                 120.0   \n",
       "2  10.0  0.160710       0.1                   100.0                 120.0   \n",
       "3  10.0 -0.027194       0.1                   100.0                 120.0   \n",
       "4   3.0 -0.042472       0.1                   100.0                 120.0   \n",
       "\n",
       "    gRandomSeed  oppDecay  \n",
       "0  2.117656e+09    1000.0  \n",
       "1  2.117656e+09    1000.0  \n",
       "2 -2.080186e+08     500.0  \n",
       "3 -2.080171e+08     500.0  \n",
       "4 -2.064171e+09    1000.0  "
      ]
     },
     "execution_count": 75,
     "metadata": {},
     "output_type": "execute_result"
    }
   ],
   "source": [
    "df.head()"
   ]
  },
  {
   "cell_type": "code",
   "execution_count": 76,
   "metadata": {},
   "outputs": [],
   "source": [
    "excluded = ['gSeed', 'gLogFilename', 'path']\n",
    "processed = []\n",
    "for elem in params:\n",
    "    param = elem[1]\n",
    "    ess = param['meanA'] / 2\n",
    "    so = param['meanA'] + param['b'] / 2\n",
    "    outdict = {'coop': (elem[2] - ess) / (so - ess) }\n",
    "    for key in diffkeys:\n",
    "        if key in excluded: continue\n",
    "        outdict[key] = elem[1][key]\n",
    "    processed.append(outdict)\n",
    "df = pd.DataFrame(processed)\n",
    "normalized_df=(df-df.mean())/df.std()"
   ]
  },
  {
   "cell_type": "code",
   "execution_count": 77,
   "metadata": {},
   "outputs": [
    {
     "data": {
      "text/plain": [
       "<matplotlib.axes._subplots.AxesSubplot at 0x7f823d90b080>"
      ]
     },
     "execution_count": 77,
     "metadata": {},
     "output_type": "execute_result"
    },
    {
     "data": {
      "image/png": "[encoded data removed]",
      "text/plain": [
       "<Figure size 432x288 with 1 Axes>"
      ]
     },
     "metadata": {},
     "output_type": "display_data"
    }
   ],
   "source": [
    "sns.regplot(x='gInitialNumberOfRobots', y='coop', data=normalized_df)"
   ]
  },
  {
   "cell_type": "code",
   "execution_count": 78,
   "metadata": {},
   "outputs": [],
   "source": [
    "import statsmodels.formula.api as sm"
   ]
  },
  {
   "cell_type": "code",
   "execution_count": 79,
   "metadata": {},
   "outputs": [],
   "source": [
    "result = sm.ols(formula=\"coop ~ gInitialNumberOfRobots + b + oppDecay + fakeCoef\", data=normalized_df).fit()"
   ]
  },
  {
   "cell_type": "code",
   "execution_count": 80,
   "metadata": {},
   "outputs": [
    {
     "data": {
      "text/html": [
       "<table class=\"simpletable\">\n",
       "<caption>OLS Regression Results</caption>\n",
       "<tr>\n",
       "  <th>Dep. Variable:</th>          <td>coop</td>       <th>  R-squared:         </th> <td>   0.629</td>\n",
       "</tr>\n",
       "<tr>\n",
       "  <th>Model:</th>                   <td>OLS</td>       <th>  Adj. R-squared:    </th> <td>   0.541</td>\n",
       "</tr>\n",
       "<tr>\n",
       "  <th>Method:</th>             <td>Least Squares</td>  <th>  F-statistic:       </th> <td>   7.196</td>\n",
       "</tr>\n",
       "<tr>\n",
       "  <th>Date:</th>             <td>Tue, 18 Jun 2019</td> <th>  Prob (F-statistic):</th>  <td>0.00140</td>\n",
       "</tr>\n",
       "<tr>\n",
       "  <th>Time:</th>                 <td>18:02:27</td>     <th>  Log-Likelihood:    </th> <td> -19.807</td>\n",
       "</tr>\n",
       "<tr>\n",
       "  <th>No. Observations:</th>      <td>    22</td>      <th>  AIC:               </th> <td>   49.61</td>\n",
       "</tr>\n",
       "<tr>\n",
       "  <th>Df Residuals:</th>          <td>    17</td>      <th>  BIC:               </th> <td>   55.07</td>\n",
       "</tr>\n",
       "<tr>\n",
       "  <th>Df Model:</th>              <td>     4</td>      <th>                     </th>     <td> </td>   \n",
       "</tr>\n",
       "<tr>\n",
       "  <th>Covariance Type:</th>      <td>nonrobust</td>    <th>                     </th>     <td> </td>   \n",
       "</tr>\n",
       "</table>\n",
       "<table class=\"simpletable\">\n",
       "<tr>\n",
       "             <td></td>               <th>coef</th>     <th>std err</th>      <th>t</th>      <th>P>|t|</th>  <th>[0.025</th>    <th>0.975]</th>  \n",
       "</tr>\n",
       "<tr>\n",
       "  <th>Intercept</th>              <td>-7.633e-17</td> <td>    0.144</td> <td>-5.29e-16</td> <td> 1.000</td> <td>   -0.305</td> <td>    0.305</td>\n",
       "</tr>\n",
       "<tr>\n",
       "  <th>gInitialNumberOfRobots</th> <td>    0.8676</td> <td>    0.167</td> <td>    5.204</td> <td> 0.000</td> <td>    0.516</td> <td>    1.219</td>\n",
       "</tr>\n",
       "<tr>\n",
       "  <th>b</th>                      <td>   -0.0403</td> <td>    0.161</td> <td>   -0.251</td> <td> 0.805</td> <td>   -0.379</td> <td>    0.299</td>\n",
       "</tr>\n",
       "<tr>\n",
       "  <th>oppDecay</th>               <td>   -0.0415</td> <td>    0.150</td> <td>   -0.277</td> <td> 0.785</td> <td>   -0.357</td> <td>    0.274</td>\n",
       "</tr>\n",
       "<tr>\n",
       "  <th>fakeCoef</th>               <td>    0.2391</td> <td>    0.179</td> <td>    1.333</td> <td> 0.200</td> <td>   -0.139</td> <td>    0.617</td>\n",
       "</tr>\n",
       "</table>\n",
       "<table class=\"simpletable\">\n",
       "<tr>\n",
       "  <th>Omnibus:</th>       <td> 0.146</td> <th>  Durbin-Watson:     </th> <td>   1.316</td>\n",
       "</tr>\n",
       "<tr>\n",
       "  <th>Prob(Omnibus):</th> <td> 0.930</td> <th>  Jarque-Bera (JB):  </th> <td>   0.027</td>\n",
       "</tr>\n",
       "<tr>\n",
       "  <th>Skew:</th>          <td> 0.029</td> <th>  Prob(JB):          </th> <td>   0.987</td>\n",
       "</tr>\n",
       "<tr>\n",
       "  <th>Kurtosis:</th>      <td> 2.840</td> <th>  Cond. No.          </th> <td>    1.92</td>\n",
       "</tr>\n",
       "</table><br/><br/>Warnings:<br/>[1] Standard Errors assume that the covariance matrix of the errors is correctly specified."
      ],
      "text/plain": [
       "<class 'statsmodels.iolib.summary.Summary'>\n",
       "\"\"\"\n",
       "                            OLS Regression Results                            \n",
       "==============================================================================\n",
       "Dep. Variable:                   coop   R-squared:                       0.629\n",
       "Model:                            OLS   Adj. R-squared:                  0.541\n",
       "Method:                 Least Squares   F-statistic:                     7.196\n",
       "Date:                Tue, 18 Jun 2019   Prob (F-statistic):            0.00140\n",
       "Time:                        18:02:27   Log-Likelihood:                -19.807\n",
       "No. Observations:                  22   AIC:                             49.61\n",
       "Df Residuals:                      17   BIC:                             55.07\n",
       "Df Model:                           4                                         \n",
       "Covariance Type:            nonrobust                                         \n",
       "==========================================================================================\n",
       "                             coef    std err          t      P>|t|      [0.025      0.975]\n",
       "------------------------------------------------------------------------------------------\n",
       "Intercept              -7.633e-17      0.144  -5.29e-16      1.000      -0.305       0.305\n",
       "gInitialNumberOfRobots     0.8676      0.167      5.204      0.000       0.516       1.219\n",
       "b                         -0.0403      0.161     -0.251      0.805      -0.379       0.299\n",
       "oppDecay                  -0.0415      0.150     -0.277      0.785      -0.357       0.274\n",
       "fakeCoef                   0.2391      0.179      1.333      0.200      -0.139       0.617\n",
       "==============================================================================\n",
       "Omnibus:                        0.146   Durbin-Watson:                   1.316\n",
       "Prob(Omnibus):                  0.930   Jarque-Bera (JB):                0.027\n",
       "Skew:                           0.029   Prob(JB):                        0.987\n",
       "Kurtosis:                       2.840   Cond. No.                         1.92\n",
       "==============================================================================\n",
       "\n",
       "Warnings:\n",
       "[1] Standard Errors assume that the covariance matrix of the errors is correctly specified.\n",
       "\"\"\""
      ]
     },
     "execution_count": 80,
     "metadata": {},
     "output_type": "execute_result"
    }
   ],
   "source": [
    "result.summary()"
   ]
  },
  {
   "cell_type": "code",
   "execution_count": null,
   "metadata": {},
   "outputs": [],
   "source": []
  }
 ],
 "metadata": {
  "kernelspec": {
   "display_name": "Python 3",
   "language": "python",
   "name": "python3"
  },
  "language_info": {
   "codemirror_mode": {
    "name": "ipython",
    "version": 3
   },
   "file_extension": ".py",
   "mimetype": "text/x-python",
   "name": "python",
   "nbconvert_exporter": "python",
   "pygments_lexer": "ipython3",
   "version": "3.7.3"
  }
 },
 "nbformat": 4,
 "nbformat_minor": 2
}
