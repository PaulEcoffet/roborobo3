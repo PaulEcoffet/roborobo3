{
 "cells": [
  {
   "cell_type": "code",
   "execution_count": null,
   "metadata": {},
   "outputs": [],
   "source": [
    "import pandas as pd\n",
    "import matplotlib.pyplot as plt\n",
    "import numpy as np\n",
    "import seaborn as sns\n",
    "import glob\n",
    "import scipy.stats\n",
    "from IPython.display import Video, display, HTML\n",
    "import tqdm\n",
    "import statsmodels.formula.api as sm\n",
    "import copy\n",
    "\n",
    "sns.set()\n",
    "\n",
    "def read_csvx(path, *args, **kwargs):\n",
    "    try:\n",
    "        return pd.read_csv(str(path), *args, **kwargs)\n",
    "    except FileNotFoundException as e:\n",
    "        return pd.read_csv(str(path) +'.gz', *args, **kwargs)\n",
    "\n",
    "\n",
    "def followorbit(vals, path):\n",
    "    out = []\n",
    "    for n in range(100):\n",
    "        closest05 = np.clip(round(path[n] * 2) / 2, 0, 10)\n",
    "        rank = vals.query(f'nbopp == {n} and othercoop == {closest05}')['rank'].values[0]\n",
    "        out.append(rank)\n",
    "    return np.array(out)\n",
    "\n",
    "import re\n",
    "def gethighest(vals, prefix=\"logall_\", which=1):\n",
    "    if which == 1:\n",
    "        m = np.argmax([int(re.search(f'{prefix}(\\d+)', val).group(1)) for val in vals])\n",
    "    else:\n",
    "        trueval = [int(re.search(f'{prefix}(\\d+)', val).group(1)) for val in vals]\n",
    "        itrueval = sorted(list(enumerate(trueval)), key=lambda x: x[1])\n",
    "        m = itrueval[-which][0]\n",
    "    return vals[m]\n",
    "\n",
    "    \n",
    "def readparams(file):\n",
    "    params = {} \n",
    "    with open(file) as f:\n",
    "        for line in f:\n",
    "            line = line[:-1]  # remove \\n\n",
    "            if not line or line.startswith('#') or line.startswith('import'):\n",
    "                continue\n",
    "            key, val = line.split('=')\n",
    "            if val.lower() == 'true' or val.lower() == 'false':\n",
    "                params[key] = val.lower() == 'true'\n",
    "            else:\n",
    "                try:\n",
    "                    params[key] = float(val)\n",
    "                except ValueError:\n",
    "                    params[key] = val\n",
    "    return params\n",
    "\n",
    "def sorted_nicely(l): \n",
    "    \"\"\" Sort the given iterable in the way that humans expect.\"\"\" \n",
    "    convert = lambda text: int(text) if text.isdigit() else text \n",
    "    alphanum_key = lambda key: [ convert(c) for c in re.split('([0-9]+)', key) ] \n",
    "    return sorted(l, key = alphanum_key)\n",
    "\n",
    "def readparams(file):\n",
    "    params = {} \n",
    "    with open(file) as f:\n",
    "        for line in f:\n",
    "            line = line[:-1]  # remove \\n\n",
    "            if not line or line.startswith('#') or line.startswith('import'):\n",
    "                continue\n",
    "            key, val = line.split('=')\n",
    "            if val.lower() == 'true' or val.lower() == 'false':\n",
    "                params[key] = val.lower() == 'true'\n",
    "            else:\n",
    "                try:\n",
    "                    params[key] = float(val)\n",
    "                except ValueError:\n",
    "                    params[key] = val\n",
    "    return params\n",
    "\n",
    "import platform\n",
    "hostname = platform.node()\n",
    "print(hostname)\n",
    "\n",
    "if hostname == 'cluster':\n",
    "    prefix = '/home/ecoffet/robocoop/'\n",
    "else:\n",
    "    prefix = '/home/pecoffet/remoterobo/'"
   ]
  },
  {
   "cell_type": "code",
   "execution_count": null,
   "metadata": {},
   "outputs": [],
   "source": [
    "allpaths = glob.glob(\"/home/ecoffet/robocoop/logs/lionscross10-procbtest/**/*opti2/**/a100/**/replay/\", recursive=True)"
   ]
  },
  {
   "cell_type": "code",
   "execution_count": null,
   "metadata": {},
   "outputs": [],
   "source": [
    "datas = []\n",
    "for path in tqdm.tqdm_notebook(allpaths):\n",
    "    param = readparams(glob.glob(path + '/properties*')[0])\n",
    "    try:\n",
    "        df = pd.read_csv(path + \"/logscore_0.txt.gz\",nrows=1_000_000)\n",
    "    except:\n",
    "        print('error for', path)\n",
    "        continue\n",
    "    gp = df.groupby(['eval', 'iter', 'id'])\n",
    "    meancoop = gp.mean()['othercoop'].copy()\n",
    "    chosen = gp.apply(lambda x: x.loc[x['score'].idxmax()]['othercoop']).copy()\n",
    "    info = copy.deepcopy(param)\n",
    "    info['percentmaxcoop'] = np.sum(chosen > meancoop) / len(chosen)\n",
    "    datas.append(info)\n",
    "fulldf = pd.DataFrame(datas)"
   ]
  },
  {
   "cell_type": "code",
   "execution_count": null,
   "metadata": {},
   "outputs": [],
   "source": [
    "fulldf.to_pickle('score_loaded.pkl')"
   ]
  },
  {
   "cell_type": "code",
   "execution_count": null,
   "metadata": {},
   "outputs": [],
   "source": [
    "fulldf = pd.read_pickle('score_loaded.pkl')"
   ]
  },
  {
   "cell_type": "code",
   "execution_count": null,
   "metadata": {},
   "outputs": [],
   "source": [
    "sns.scatterplot(x='gNbOfPhysicalObjects', y='percentmaxcoop', data=fulldf)"
   ]
  },
  {
   "cell_type": "code",
   "execution_count": null,
   "metadata": {},
   "outputs": [],
   "source": [
    "sns.regplot(x='gNbOfPhysicalObjects', y='percentmaxcoop', data=fulldf)"
   ]
  },
  {
   "cell_type": "code",
   "execution_count": null,
   "metadata": {},
   "outputs": [],
   "source": [
    "sns.lineplot(x='gNbOfPhysicalObjects', y='percentmaxcoop', data=fulldf)"
   ]
  },
  {
   "cell_type": "code",
   "execution_count": null,
   "metadata": {},
   "outputs": [],
   "source": [
    "%matplotlib inline\n",
    "import matplotlib.pyplot as plt\n",
    "plt.figure(figsize=(10, 3))\n",
    "sns.scatterplot(data=df.query('eval == 0 and id == 11'), x='othercoop', y='score', hue=\"nbpart\")"
   ]
  },
  {
   "cell_type": "code",
   "execution_count": null,
   "metadata": {},
   "outputs": [],
   "source": [
    "from scipy import stats"
   ]
  },
  {
   "cell_type": "code",
   "execution_count": null,
   "metadata": {},
   "outputs": [],
   "source": [
    "normdf = (df - df.mean()) / df.std()\n",
    "sm.ols('score ~ othercoop + nbpart', data=normdf).fit().summary()"
   ]
  },
  {
   "cell_type": "code",
   "execution_count": null,
   "metadata": {},
   "outputs": [],
   "source": []
  },
  {
   "cell_type": "code",
   "execution_count": null,
   "metadata": {},
   "outputs": [],
   "source": []
  },
  {
   "cell_type": "code",
   "execution_count": null,
   "metadata": {},
   "outputs": [],
   "source": []
  }
 ],
 "metadata": {
  "kernelspec": {
   "display_name": "Python 3",
   "language": "python",
   "name": "python3"
  },
  "language_info": {
   "codemirror_mode": {
    "name": "ipython",
    "version": 3
   },
   "file_extension": ".py",
   "mimetype": "text/x-python",
   "name": "python",
   "nbconvert_exporter": "python",
   "pygments_lexer": "ipython3",
   "version": "3.7.4"
  }
 },
 "nbformat": 4,
 "nbformat_minor": 4
}
