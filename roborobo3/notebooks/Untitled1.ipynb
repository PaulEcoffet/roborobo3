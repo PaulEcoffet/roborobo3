{
 "cells": [
  {
   "cell_type": "code",
   "execution_count": 1,
   "metadata": {},
   "outputs": [],
   "source": [
    "import numpy as np\n",
    "import scipy.stats\n",
    "import seaborn as sns\n",
    "sns.set()"
   ]
  },
  {
   "cell_type": "code",
   "execution_count": null,
   "metadata": {},
   "outputs": [],
   "source": [
    "scipy normal(1, CoopFixed2SharedData::fakeCoefStd);\n",
    "    double minquantile = boost::math::cdf(normal, 1./ CoopFixed2SharedData::fakeCoef);\n",
    "    double maxquantile = boost::math::cdf(normal, 1);\n",
    "    double stepquantile = (maxquantile - minquantile) / ((m_nbIndividuals / 2) - 1);\n",
    "    double curquantile = minquantile;\n",
    "    for (int i = 0; i < m_nbIndividuals / 2 ; i++)\n",
    "    {\n",
    "        variabilityCoef[i] = boost::math::quantile(normal, curquantile);\n",
    "        curquantile += stepquantile;\n",
    "    }\n",
    "    for (int i = 0; i < m_nbIndividuals / 2; i++)\n",
    "    {\n",
    "        variabilityCoef[m_nbIndividuals - i] = 1. / variabilityCoef[i];\n",
    "    }\n"
   ]
  },
  {
   "cell_type": "code",
   "execution_count": 48,
   "metadata": {},
   "outputs": [],
   "source": [
    "std=0.5\n",
    "minquantile = scipy.stats.distributions.norm.cdf(0.5, loc=1, scale=std)\n",
    "maxquantile = scipy.stats.distributions.norm.cdf(1, loc=1, scale=std)\n",
    "stepq = (maxquantile - minquantile) / (50 - 1)\n",
    "\n"
   ]
  },
  {
   "cell_type": "code",
   "execution_count": 49,
   "metadata": {},
   "outputs": [],
   "source": [
    "coefs = []\n",
    "curq = minquantile\n",
    "for i in range(50):\n",
    "    coefs.append(scipy.stats.distributions.norm.ppf(curq, loc=1, scale=std))\n",
    "    curq += stepq\n",
    "\n",
    "invcoef = []\n",
    "for coef in coefs:\n",
    "    invcoef.append(1/coef)\n",
    "coefs.extend(invcoef)"
   ]
  },
  {
   "cell_type": "code",
   "execution_count": 50,
   "metadata": {},
   "outputs": [
    {
     "data": {
      "text/plain": [
       "<matplotlib.axes._subplots.AxesSubplot at 0x7f02652bb828>"
      ]
     },
     "execution_count": 50,
     "metadata": {},
     "output_type": "execute_result"
    },
    {
     "data": {
      "image/png": "[encoded data removed]",
      "text/plain": [
       "<Figure size 432x288 with 1 Axes>"
      ]
     },
     "metadata": {
      "needs_background": "light"
     },
     "output_type": "display_data"
    }
   ],
   "source": [
    "sns.distplot(coefs, kde=False)"
   ]
  },
  {
   "cell_type": "code",
   "execution_count": null,
   "metadata": {},
   "outputs": [],
   "source": []
  }
 ],
 "metadata": {
  "kernelspec": {
   "display_name": "Python 3",
   "language": "python",
   "name": "python3"
  },
  "language_info": {
   "codemirror_mode": {
    "name": "ipython",
    "version": 3
   },
   "file_extension": ".py",
   "mimetype": "text/x-python",
   "name": "python",
   "nbconvert_exporter": "python",
   "pygments_lexer": "ipython3",
   "version": "3.6.7"
  }
 },
 "nbformat": 4,
 "nbformat_minor": 2
}
